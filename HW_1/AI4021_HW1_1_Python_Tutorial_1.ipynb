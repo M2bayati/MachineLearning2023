{
  "nbformat": 4,
  "nbformat_minor": 0,
  "metadata": {
    "colab": {
      "provenance": [],
      "include_colab_link": true
    },
    "kernelspec": {
      "name": "python3",
      "display_name": "Python 3"
    },
    "language_info": {
      "name": "python"
    }
  },
  "cells": [
    {
      "cell_type": "markdown",
      "metadata": {
        "id": "view-in-github",
        "colab_type": "text"
      },
      "source": [
        "<a href=\"https://colab.research.google.com/github/M2bayati/MachineLearning2023/blob/main/HW_1/AI4021_HW1_1_Python_Tutorial_1.ipynb\" target=\"_parent\"><img src=\"https://colab.research.google.com/assets/colab-badge.svg\" alt=\"Open In Colab\"/></a>"
      ]
    },
    {
      "cell_type": "markdown",
      "source": [
        "**Question 1:** Write a Python program that asks the user for their age. If the age is greater than or equal to 18, print \"You are an adult.\" Otherwise, print \"You are a minor.\""
      ],
      "metadata": {
        "id": "6_vl9BFfOXWG"
      }
    },
    {
      "cell_type": "code",
      "source": [
        "age = int(input(\"Enter your age: \"))\n",
        "\n",
        "if age >= 18:\n",
        "  print(\"You are an adult.\")\n",
        "else:\n",
        "  print(\"You are a minor.\")"
      ],
      "metadata": {
        "colab": {
          "base_uri": "https://localhost:8080/"
        },
        "id": "CAbJIkUPOcQs",
        "outputId": "fcf7bb79-74fe-4622-976b-4375f939226c"
      },
      "execution_count": null,
      "outputs": [
        {
          "output_type": "stream",
          "name": "stdout",
          "text": [
            "Enter your age: 20\n",
            "You are an adult.\n"
          ]
        }
      ]
    },
    {
      "cell_type": "markdown",
      "source": [
        "**Question 2:** Write a Python program to print the numbers from 1 to 10 using a for loop."
      ],
      "metadata": {
        "id": "r_W1sWoQOezD"
      }
    },
    {
      "cell_type": "code",
      "source": [
        "j = 1\n",
        "\n",
        "while j<11:\n",
        "  print(j)\n",
        "  j += 1"
      ],
      "metadata": {
        "colab": {
          "base_uri": "https://localhost:8080/"
        },
        "id": "__o_-ZodOhbo",
        "outputId": "cb7062c7-8392-4041-8209-6336e12cf944"
      },
      "execution_count": null,
      "outputs": [
        {
          "output_type": "stream",
          "name": "stdout",
          "text": [
            "1\n",
            "2\n",
            "3\n",
            "4\n",
            "5\n",
            "6\n",
            "7\n",
            "8\n",
            "9\n",
            "10\n"
          ]
        }
      ]
    },
    {
      "cell_type": "markdown",
      "source": [
        "**Question 3:** Write a Python program to calculate the sum of all even numbers from 1 to 20 using a while loop."
      ],
      "metadata": {
        "id": "2q7OyBe_Oiud"
      }
    },
    {
      "cell_type": "code",
      "source": [
        "j = 2\n",
        "sum = 0\n",
        "\n",
        "while j<=20:\n",
        " sum += j\n",
        " j += 2\n",
        "\n",
        "print(\"Sum of even numbers from 1 to 20:\",sum)"
      ],
      "metadata": {
        "colab": {
          "base_uri": "https://localhost:8080/"
        },
        "id": "r3uY0I6GOlB3",
        "outputId": "2fecc6ab-4701-43ef-fa5e-620c8cef6422"
      },
      "execution_count": null,
      "outputs": [
        {
          "output_type": "stream",
          "name": "stdout",
          "text": [
            "Sum of even numbers from 1 to 20: 110\n"
          ]
        }
      ]
    },
    {
      "cell_type": "markdown",
      "source": [
        "**Question 4:** Define a function called multiply that takes two parameters and returns their product."
      ],
      "metadata": {
        "id": "YZprv77SOowG"
      }
    },
    {
      "cell_type": "code",
      "source": [
        "def multiply(num1, num2):\n",
        "  return num1*num2\n",
        "\n",
        "# multiply(2,3)"
      ],
      "metadata": {
        "id": "6Y0USeerOrUN"
      },
      "execution_count": null,
      "outputs": []
    },
    {
      "cell_type": "markdown",
      "source": [
        "**Question 5:** Create a class called Person with a constructor method that initializes the name and age attributes. Then, create an instance of the Person class and print the person's name and age."
      ],
      "metadata": {
        "id": "0GOwbOCPOtBN"
      }
    },
    {
      "cell_type": "code",
      "source": [
        "class Person:\n",
        "  def __init__(self,name,age):\n",
        "    self.name = name\n",
        "    self.age = age\n",
        "\n",
        "# create an instance of the Person class\n",
        "person1 = Person(\"Alice\",25)\n",
        "\n",
        "# print the person's name and age\n",
        "print(\"Name:\",person1.name)\n",
        "print(\"Age:\",person1.age)"
      ],
      "metadata": {
        "colab": {
          "base_uri": "https://localhost:8080/"
        },
        "id": "WcAY-oMeOv1v",
        "outputId": "c06c201e-d129-46c1-a8d1-b45bca921688"
      },
      "execution_count": null,
      "outputs": [
        {
          "output_type": "stream",
          "name": "stdout",
          "text": [
            "Name: Alice\n",
            "Age: 25\n"
          ]
        }
      ]
    },
    {
      "cell_type": "markdown",
      "source": [
        "**Question 6:** Create a subclass called `Student` that inherits from the `Person` class. Add an additional attribute called `student_id` to the `Student` class. Create an instance of the `Student` class and print the student's name, age, and student ID."
      ],
      "metadata": {
        "id": "JMq7nrdROxIF"
      }
    },
    {
      "cell_type": "code",
      "source": [
        "class Person:\n",
        "  def __init__(self,name,age):\n",
        "    \"\"\"\n",
        "    Initialize a Person object with a name and age.\n",
        "\n",
        "    Args:\n",
        "      name (str): The name of the person.\n",
        "      age (int): The age of the person.\n",
        "    \"\"\"\n",
        "    self.name = name\n",
        "    self.age = age\n",
        "\n",
        "class Student(Person):\n",
        "  def __init__(self,name,age,student_id):\n",
        "    \"\"\"\n",
        "    Initialize a Student object with a name, age, and student ID.\n",
        "\n",
        "    Args:\n",
        "      name (str): The name of the student.\n",
        "      age (int): The age of the student.\n",
        "      student_id (str): The student ID of the student.\n",
        "    \"\"\"\n",
        "    super().__init__(name,age)\n",
        "    self.student_id = student_id\n",
        "\n",
        "student1 = Student(\"Bob\",20,\"12345\")\n",
        "\n",
        "# print the student's name, age, and student ID\n",
        "print(\"Name:\",student1.name)\n",
        "print(\"Age:\",student1.age)\n",
        "print(\"Student ID:\",student1.student_id)"
      ],
      "metadata": {
        "colab": {
          "base_uri": "https://localhost:8080/"
        },
        "id": "vpEpTshwO8Xi",
        "outputId": "aadde584-60dc-4527-cf5a-e719459cadfd"
      },
      "execution_count": null,
      "outputs": [
        {
          "output_type": "stream",
          "name": "stdout",
          "text": [
            "Name: Bob\n",
            "Age: 20\n",
            "Student ID: 12345\n"
          ]
        }
      ]
    },
    {
      "cell_type": "markdown",
      "source": [
        "**Question 7:** Write a Python program that prompts the user to enter a number and then prints whether the number is prime or not. Create a function called `is_prime` that takes an integer as an argument and returns True if it's prime, and False otherwise."
      ],
      "metadata": {
        "id": "5TxkMVTOPIRF"
      }
    },
    {
      "cell_type": "code",
      "source": [
        "def is_prime(number):\n",
        "\n",
        "  if number <2:\n",
        "    return False\n",
        "\n",
        "  else:\n",
        "    j = 2\n",
        "    while j < int(number ** 0.5) + 1:\n",
        "      if number % j ==0:\n",
        "        return False\n",
        "      j +=1\n",
        "  return True\n",
        "\n",
        "def is_prime(number):\n",
        "    if number < 2:\n",
        "        return False\n",
        "\n",
        "    for i in range(2, int(number ** 0.5) + 1):\n",
        "        if number % i == 0:\n",
        "            return False\n",
        "\n",
        "    return True\n",
        "\n",
        "\n",
        "# Prompt the user to enter an integer\n",
        "number = int(input(\"Enter an integer: \"))\n",
        "\n",
        "# Check if the number is prime and print the result\n",
        "if is_prime(number):\n",
        "    print(number, \"is a prime number.\")\n",
        "else:\n",
        "    print(number, \"is not a prime number.\")\n"
      ],
      "metadata": {
        "colab": {
          "base_uri": "https://localhost:8080/"
        },
        "id": "UELQoZzKPNLm",
        "outputId": "48071390-2ed1-4599-d060-f1a9fde51531"
      },
      "execution_count": null,
      "outputs": [
        {
          "output_type": "stream",
          "name": "stdout",
          "text": [
            "Enter a number: 13\n",
            "13 is a prime number.\n"
          ]
        }
      ]
    },
    {
      "cell_type": "markdown",
      "source": [
        "**Question 8:** Write a Python program that calculates the factorial of a given number using a recursive function. Prompt the user for an integer input and print its factorial."
      ],
      "metadata": {
        "id": "HR0mHW5nPP-l"
      }
    },
    {
      "cell_type": "code",
      "source": [
        "def factorial(number):\n",
        "  if number == 0:\n",
        "    return 1\n",
        "  else:\n",
        "    return number * factorial(number-1)\n",
        "\n",
        "# Prompt the user to enter an integer\n",
        "number = int(input(\"Enter an integer: \"))\n",
        "\n",
        "# Calculate the factorial using the factorial function\n",
        "fact = factorial(number)\n",
        "\n",
        "# Print the result\n",
        "print(\"Factorial of\", number, \"is\", fact)"
      ],
      "metadata": {
        "colab": {
          "base_uri": "https://localhost:8080/"
        },
        "id": "gm5j51vlPS4y",
        "outputId": "b815b0dd-d80d-4c5b-d97a-89a7e2e1fa14"
      },
      "execution_count": null,
      "outputs": [
        {
          "output_type": "stream",
          "name": "stdout",
          "text": [
            "Enter an integer: 10\n",
            "Factorial of 10 is 3628800\n"
          ]
        }
      ]
    },
    {
      "cell_type": "markdown",
      "source": [
        "**Question 9:** Create a class called `Rectangle` with attributes `width` and `height`. Add a method `calculate_area` that calculates and returns the area of the rectangle. Create an instance of the `Rectangle` class and print its area."
      ],
      "metadata": {
        "id": "KgQI1zFkPcRb"
      }
    },
    {
      "cell_type": "code",
      "source": [
        "class Rectangle:\n",
        "  def __init__(self,width,height):\n",
        "    self.width = width\n",
        "    self.height = height\n",
        "\n",
        "  def area(self):\n",
        "    return self.width * self.height\n",
        "\n",
        "# Create an instance of the Rectangle class\n",
        "rectangle1 = Rectangle(4,10)\n",
        "\n",
        "# Print the area of the rectangle\n",
        "print(\"Area of the rectangle:\",rectangle1.area())"
      ],
      "metadata": {
        "colab": {
          "base_uri": "https://localhost:8080/"
        },
        "id": "S2yIbrGMPUHN",
        "outputId": "4e21ff09-e1be-4113-da16-4145ebf44982"
      },
      "execution_count": null,
      "outputs": [
        {
          "output_type": "stream",
          "name": "stdout",
          "text": [
            "Area of the rectangle: 40\n"
          ]
        }
      ]
    },
    {
      "cell_type": "markdown",
      "source": [
        "**Question 10:** Create a subclass called `Square` that inherits from the `Rectangle` class. Add a method `calculate_perimeter` to the `Square` class that calculates and returns the perimeter of the square. Create an instance of the `Square` class and print its perimeter."
      ],
      "metadata": {
        "id": "hZJpUWXiPnUy"
      }
    },
    {
      "cell_type": "code",
      "source": [
        "class Rectangle:\n",
        "  def __init__(self,width,height):\n",
        "    self.width = width\n",
        "    self.height = height\n",
        "\n",
        "  def perimeter(self):\n",
        "    return 2 * (self.width + self.height)\n",
        "\n",
        "class Square(Rectangle):\n",
        "  def __init__(self,side_length):\n",
        "    super().__init__(side_length,side_length)\n",
        "\n",
        "# Create an instance of the Square class\n",
        "square1 = Square(4)\n",
        "\n",
        "# Print the perimeter of the square\n",
        "print(\"Perimeter of the square:\", square1.perimeter())"
      ],
      "metadata": {
        "colab": {
          "base_uri": "https://localhost:8080/"
        },
        "id": "rrvDKau6Prgv",
        "outputId": "d9d9b84b-bc1e-4ea0-ca2b-6ef33333a130"
      },
      "execution_count": null,
      "outputs": [
        {
          "output_type": "stream",
          "name": "stdout",
          "text": [
            "Perimeter of the square: 16\n"
          ]
        }
      ]
    },
    {
      "cell_type": "markdown",
      "source": [
        "**Question 11:** Create a base class called `Animal` with attributes `name` and `species`. Provide a constructor to initialize these attributes and a method called `speak` that prints a generic message like \"The animal makes a sound.\""
      ],
      "metadata": {
        "id": "bAvC4oKdPySI"
      }
    },
    {
      "cell_type": "code",
      "source": [
        "class Animal:\n",
        "  def __init__(self,name,species):\n",
        "    self.name = name\n",
        "    self.species = species\n",
        "\n",
        "  def speak(self):\n",
        "    print (self.name + \" is the \" + self.species + \" makes a sound.\")\n",
        "    # print(\"The animal makes a sound.\")\n",
        "\n",
        "# Create an instance of the Animal class\n",
        "animal1 = Animal(\"Leo\", \"Lion\")\n",
        "\n",
        "# Call the speak method\n",
        "animal1.speak()"
      ],
      "metadata": {
        "id": "ReV5Ul0ZP-n7"
      },
      "execution_count": null,
      "outputs": []
    },
    {
      "cell_type": "markdown",
      "source": [
        "**Question 12:** Create a subclass called `Dog` that inherits from the `Animal` class. Add a constructor to initialize the `name`, `species`, and `breed` attributes specific to dogs. Override the `speak` method in the `Dog` class to print \"Woof!\""
      ],
      "metadata": {
        "id": "B27SF_YbQANC"
      }
    },
    {
      "cell_type": "code",
      "source": [
        "class Animal:\n",
        "  def __init__(self,name,species):\n",
        "    self.name = name\n",
        "    self.species = species\n",
        "\n",
        "  def speak(self):\n",
        "    print(\"The animal makes a sound.\")\n",
        "\n",
        "class Dog(Animal):\n",
        "  def __init__(self,name,species,breed):\n",
        "    super().__init__(name,species)\n",
        "    self.breed = breed\n",
        "\n",
        "  def speak(self):\n",
        "    print(self.name + \" the \" + self.breed + \" says Woof!\")\n",
        "\n",
        "# Create an instance of the Dog class\n",
        "Dog1 = Dog(\"Max\",\"Dog\",\"Golden Retriever\")\n",
        "\n",
        "# Call the speak method\n",
        "Dog1.speak()"
      ],
      "metadata": {
        "id": "3Gn8dy-QQIGA"
      },
      "execution_count": null,
      "outputs": []
    },
    {
      "cell_type": "markdown",
      "source": [
        "**Question 13:** Create another subclass called `Cat` that inherits from the `Animal` class. Add a constructor to initialize the `name`, `species`, and `color` attributes specific to cats. Override the `speak` method in the `Cat` class to print \"Meow!\""
      ],
      "metadata": {
        "id": "evEYwP3GQKHU"
      }
    },
    {
      "cell_type": "code",
      "source": [
        "class Animal:\n",
        "  def __init__(self,name,species):\n",
        "    self.name = name\n",
        "    self.species = species\n",
        "\n",
        "  def speak(self):\n",
        "    print(\"The animal makes a sound.\")\n",
        "\n",
        "class Cat(Animal):\n",
        "  def __init__(self,name,species,color):\n",
        "    super().__init__(name,species)\n",
        "    self.breed = color\n",
        "\n",
        "  def speak(self):\n",
        "    print(self.name + \" the \" + self.species + \" says Meow!\")\n",
        "\n",
        "# Create an instance of the Cat class\n",
        "Cat1 = Cat(\"Whiskers\",\"Calico cat\",\"orange\")\n",
        "\n",
        "# Call the speak method\n",
        "Cat1.speak()"
      ],
      "metadata": {
        "id": "OOuq8AP2QT9W"
      },
      "execution_count": null,
      "outputs": []
    },
    {
      "cell_type": "markdown",
      "source": [
        "**Question 14:** Create instances of both the `Dog` and `Cat` classes and call their `speak` methods to demonstrate polymorphism."
      ],
      "metadata": {
        "id": "FPiIuweTQU0D"
      }
    },
    {
      "cell_type": "code",
      "source": [
        "class Animal:\n",
        "  def __init__(self,name,species):\n",
        "    self.name = name\n",
        "    self.species = species\n",
        "\n",
        "  def speak(self):\n",
        "    print(\"The animal makes a sound.\")\n",
        "\n",
        "class Dog(Animal):\n",
        "  def __init__(self,name,species,breed):\n",
        "    super().__init__(name,species)\n",
        "    self.breed = breed\n",
        "\n",
        "  def speak(self):\n",
        "    print(self.name + \" the \" + self.breed + \" says Woof!\")\n",
        "\n",
        "class Cat(Animal):\n",
        "  def __init__(self,name,species,color):\n",
        "    super().__init__(name,species)\n",
        "    self.breed = color\n",
        "\n",
        "  def speak(self):\n",
        "    print(self.name + \" the \" + self.species + \" says Meow!\")\n",
        "\n",
        "# Create an instance of the Dog class\n",
        "Dog1 = Dog(\"Buddy\",\"Dog\",\"Golden Retriever\")\n",
        "\n",
        "# Call the speak method\n",
        "Dog1.speak()\n",
        "\n",
        "# Create an instance of the Cat class\n",
        "Cat1 = Cat(\"Whiskers\",\"Calico cat\",\"orange\")\n",
        "\n",
        "# Call the speak method\n",
        "Cat1.speak()"
      ],
      "metadata": {
        "colab": {
          "base_uri": "https://localhost:8080/"
        },
        "id": "YmUNsj72QZ4z",
        "outputId": "3d25f468-368d-47f8-90f1-5ca32bb86119"
      },
      "execution_count": null,
      "outputs": [
        {
          "output_type": "stream",
          "name": "stdout",
          "text": [
            "Buddy the Golden Retriever says Woof!\n",
            "Whiskers the Calico cat says Meow!\n"
          ]
        }
      ]
    }
  ]
}