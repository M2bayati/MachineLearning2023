{
  "nbformat": 4,
  "nbformat_minor": 0,
  "metadata": {
    "colab": {
      "provenance": [],
      "collapsed_sections": [
        "93zmeyls24g2"
      ]
    },
    "kernelspec": {
      "name": "python3",
      "display_name": "Python 3"
    },
    "language_info": {
      "name": "python"
    }
  },
  "cells": [
    {
      "cell_type": "markdown",
      "source": [
        "# Part 1"
      ],
      "metadata": {
        "id": "6OC76kkHjBrV"
      }
    },
    {
      "cell_type": "code",
      "execution_count": 1,
      "metadata": {
        "colab": {
          "base_uri": "https://localhost:8080/"
        },
        "id": "0FqoJqn5l8v9",
        "outputId": "052b18e6-2afe-4405-c468-1159d9678a7c"
      },
      "outputs": [
        {
          "output_type": "stream",
          "name": "stdout",
          "text": [
            "Requirement already satisfied: gdown in /usr/local/lib/python3.10/dist-packages (4.6.6)\n",
            "Collecting gdown\n",
            "  Downloading gdown-4.7.1-py3-none-any.whl (15 kB)\n",
            "Requirement already satisfied: filelock in /usr/local/lib/python3.10/dist-packages (from gdown) (3.13.1)\n",
            "Requirement already satisfied: requests[socks] in /usr/local/lib/python3.10/dist-packages (from gdown) (2.31.0)\n",
            "Requirement already satisfied: six in /usr/local/lib/python3.10/dist-packages (from gdown) (1.16.0)\n",
            "Requirement already satisfied: tqdm in /usr/local/lib/python3.10/dist-packages (from gdown) (4.66.1)\n",
            "Requirement already satisfied: beautifulsoup4 in /usr/local/lib/python3.10/dist-packages (from gdown) (4.11.2)\n",
            "Requirement already satisfied: soupsieve>1.2 in /usr/local/lib/python3.10/dist-packages (from beautifulsoup4->gdown) (2.5)\n",
            "Requirement already satisfied: charset-normalizer<4,>=2 in /usr/local/lib/python3.10/dist-packages (from requests[socks]->gdown) (3.3.2)\n",
            "Requirement already satisfied: idna<4,>=2.5 in /usr/local/lib/python3.10/dist-packages (from requests[socks]->gdown) (3.4)\n",
            "Requirement already satisfied: urllib3<3,>=1.21.1 in /usr/local/lib/python3.10/dist-packages (from requests[socks]->gdown) (2.0.7)\n",
            "Requirement already satisfied: certifi>=2017.4.17 in /usr/local/lib/python3.10/dist-packages (from requests[socks]->gdown) (2023.7.22)\n",
            "Requirement already satisfied: PySocks!=1.5.7,>=1.5.6 in /usr/local/lib/python3.10/dist-packages (from requests[socks]->gdown) (1.7.1)\n",
            "Installing collected packages: gdown\n",
            "  Attempting uninstall: gdown\n",
            "    Found existing installation: gdown 4.6.6\n",
            "    Uninstalling gdown-4.6.6:\n",
            "      Successfully uninstalled gdown-4.6.6\n",
            "Successfully installed gdown-4.7.1\n",
            "Downloading...\n",
            "From: https://drive.google.com/uc?id=11wi71E9PppwbkvUnk0LLPbQ9gprklqLe\n",
            "To: /content/data_banknote_authentication.txt\n",
            "100% 46.4k/46.4k [00:00<00:00, 69.8MB/s]\n"
          ]
        }
      ],
      "source": [
        "!pip install --upgrade --no-cache-dir gdown\n",
        "!gdown 11wi71E9PppwbkvUnk0LLPbQ9gprklqLe"
      ]
    },
    {
      "cell_type": "code",
      "source": [
        "import pandas as pd\n",
        "import numpy as np\n",
        "import matplotlib.pyplot as plt"
      ],
      "metadata": {
        "id": "Yi02r3v3nBJ9"
      },
      "execution_count": 2,
      "outputs": []
    },
    {
      "cell_type": "code",
      "source": [
        "data = pd.read_csv(r'/content/data_banknote_authentication.txt')\n",
        "headerlist = [\"1'st feature\", \"2'nd feature\", \"3'rd feature\", \"4'th feature\", \"target\"]\n",
        "data.to_csv('/content/data_banknote_authentication.csv', header=headerlist, index=False)\n",
        "df = pd.read_csv('/content/data_banknote_authentication.csv')\n",
        "df"
      ],
      "metadata": {
        "colab": {
          "base_uri": "https://localhost:8080/",
          "height": 423
        },
        "id": "tFk_KYTynLfI",
        "outputId": "a620e4f3-f726-4649-dfbf-5823e1d6c05a"
      },
      "execution_count": 3,
      "outputs": [
        {
          "output_type": "execute_result",
          "data": {
            "text/plain": [
              "      1'st feature  2'nd feature  3'rd feature  4'th feature  target\n",
              "0          4.54590       8.16740       -2.4586      -1.46210       0\n",
              "1          3.86600      -2.63830        1.9242       0.10645       0\n",
              "2          3.45660       9.52280       -4.0112      -3.59440       0\n",
              "3          0.32924      -4.45520        4.5718      -0.98880       0\n",
              "4          4.36840       9.67180       -3.9606      -3.16250       0\n",
              "...            ...           ...           ...           ...     ...\n",
              "1366       0.40614       1.34920       -1.4501      -0.55949       1\n",
              "1367      -1.38870      -4.87730        6.4774       0.34179       1\n",
              "1368      -3.75030     -13.45860       17.5932      -2.77710       1\n",
              "1369      -3.56370      -8.38270       12.3930      -1.28230       1\n",
              "1370      -2.54190      -0.65804        2.6842       1.19520       1\n",
              "\n",
              "[1371 rows x 5 columns]"
            ],
            "text/html": [
              "\n",
              "  <div id=\"df-dfecbbe1-90b4-4aa0-a554-597e76a2e97a\" class=\"colab-df-container\">\n",
              "    <div>\n",
              "<style scoped>\n",
              "    .dataframe tbody tr th:only-of-type {\n",
              "        vertical-align: middle;\n",
              "    }\n",
              "\n",
              "    .dataframe tbody tr th {\n",
              "        vertical-align: top;\n",
              "    }\n",
              "\n",
              "    .dataframe thead th {\n",
              "        text-align: right;\n",
              "    }\n",
              "</style>\n",
              "<table border=\"1\" class=\"dataframe\">\n",
              "  <thead>\n",
              "    <tr style=\"text-align: right;\">\n",
              "      <th></th>\n",
              "      <th>1'st feature</th>\n",
              "      <th>2'nd feature</th>\n",
              "      <th>3'rd feature</th>\n",
              "      <th>4'th feature</th>\n",
              "      <th>target</th>\n",
              "    </tr>\n",
              "  </thead>\n",
              "  <tbody>\n",
              "    <tr>\n",
              "      <th>0</th>\n",
              "      <td>4.54590</td>\n",
              "      <td>8.16740</td>\n",
              "      <td>-2.4586</td>\n",
              "      <td>-1.46210</td>\n",
              "      <td>0</td>\n",
              "    </tr>\n",
              "    <tr>\n",
              "      <th>1</th>\n",
              "      <td>3.86600</td>\n",
              "      <td>-2.63830</td>\n",
              "      <td>1.9242</td>\n",
              "      <td>0.10645</td>\n",
              "      <td>0</td>\n",
              "    </tr>\n",
              "    <tr>\n",
              "      <th>2</th>\n",
              "      <td>3.45660</td>\n",
              "      <td>9.52280</td>\n",
              "      <td>-4.0112</td>\n",
              "      <td>-3.59440</td>\n",
              "      <td>0</td>\n",
              "    </tr>\n",
              "    <tr>\n",
              "      <th>3</th>\n",
              "      <td>0.32924</td>\n",
              "      <td>-4.45520</td>\n",
              "      <td>4.5718</td>\n",
              "      <td>-0.98880</td>\n",
              "      <td>0</td>\n",
              "    </tr>\n",
              "    <tr>\n",
              "      <th>4</th>\n",
              "      <td>4.36840</td>\n",
              "      <td>9.67180</td>\n",
              "      <td>-3.9606</td>\n",
              "      <td>-3.16250</td>\n",
              "      <td>0</td>\n",
              "    </tr>\n",
              "    <tr>\n",
              "      <th>...</th>\n",
              "      <td>...</td>\n",
              "      <td>...</td>\n",
              "      <td>...</td>\n",
              "      <td>...</td>\n",
              "      <td>...</td>\n",
              "    </tr>\n",
              "    <tr>\n",
              "      <th>1366</th>\n",
              "      <td>0.40614</td>\n",
              "      <td>1.34920</td>\n",
              "      <td>-1.4501</td>\n",
              "      <td>-0.55949</td>\n",
              "      <td>1</td>\n",
              "    </tr>\n",
              "    <tr>\n",
              "      <th>1367</th>\n",
              "      <td>-1.38870</td>\n",
              "      <td>-4.87730</td>\n",
              "      <td>6.4774</td>\n",
              "      <td>0.34179</td>\n",
              "      <td>1</td>\n",
              "    </tr>\n",
              "    <tr>\n",
              "      <th>1368</th>\n",
              "      <td>-3.75030</td>\n",
              "      <td>-13.45860</td>\n",
              "      <td>17.5932</td>\n",
              "      <td>-2.77710</td>\n",
              "      <td>1</td>\n",
              "    </tr>\n",
              "    <tr>\n",
              "      <th>1369</th>\n",
              "      <td>-3.56370</td>\n",
              "      <td>-8.38270</td>\n",
              "      <td>12.3930</td>\n",
              "      <td>-1.28230</td>\n",
              "      <td>1</td>\n",
              "    </tr>\n",
              "    <tr>\n",
              "      <th>1370</th>\n",
              "      <td>-2.54190</td>\n",
              "      <td>-0.65804</td>\n",
              "      <td>2.6842</td>\n",
              "      <td>1.19520</td>\n",
              "      <td>1</td>\n",
              "    </tr>\n",
              "  </tbody>\n",
              "</table>\n",
              "<p>1371 rows × 5 columns</p>\n",
              "</div>\n",
              "    <div class=\"colab-df-buttons\">\n",
              "\n",
              "  <div class=\"colab-df-container\">\n",
              "    <button class=\"colab-df-convert\" onclick=\"convertToInteractive('df-dfecbbe1-90b4-4aa0-a554-597e76a2e97a')\"\n",
              "            title=\"Convert this dataframe to an interactive table.\"\n",
              "            style=\"display:none;\">\n",
              "\n",
              "  <svg xmlns=\"http://www.w3.org/2000/svg\" height=\"24px\" viewBox=\"0 -960 960 960\">\n",
              "    <path d=\"M120-120v-720h720v720H120Zm60-500h600v-160H180v160Zm220 220h160v-160H400v160Zm0 220h160v-160H400v160ZM180-400h160v-160H180v160Zm440 0h160v-160H620v160ZM180-180h160v-160H180v160Zm440 0h160v-160H620v160Z\"/>\n",
              "  </svg>\n",
              "    </button>\n",
              "\n",
              "  <style>\n",
              "    .colab-df-container {\n",
              "      display:flex;\n",
              "      gap: 12px;\n",
              "    }\n",
              "\n",
              "    .colab-df-convert {\n",
              "      background-color: #E8F0FE;\n",
              "      border: none;\n",
              "      border-radius: 50%;\n",
              "      cursor: pointer;\n",
              "      display: none;\n",
              "      fill: #1967D2;\n",
              "      height: 32px;\n",
              "      padding: 0 0 0 0;\n",
              "      width: 32px;\n",
              "    }\n",
              "\n",
              "    .colab-df-convert:hover {\n",
              "      background-color: #E2EBFA;\n",
              "      box-shadow: 0px 1px 2px rgba(60, 64, 67, 0.3), 0px 1px 3px 1px rgba(60, 64, 67, 0.15);\n",
              "      fill: #174EA6;\n",
              "    }\n",
              "\n",
              "    .colab-df-buttons div {\n",
              "      margin-bottom: 4px;\n",
              "    }\n",
              "\n",
              "    [theme=dark] .colab-df-convert {\n",
              "      background-color: #3B4455;\n",
              "      fill: #D2E3FC;\n",
              "    }\n",
              "\n",
              "    [theme=dark] .colab-df-convert:hover {\n",
              "      background-color: #434B5C;\n",
              "      box-shadow: 0px 1px 3px 1px rgba(0, 0, 0, 0.15);\n",
              "      filter: drop-shadow(0px 1px 2px rgba(0, 0, 0, 0.3));\n",
              "      fill: #FFFFFF;\n",
              "    }\n",
              "  </style>\n",
              "\n",
              "    <script>\n",
              "      const buttonEl =\n",
              "        document.querySelector('#df-dfecbbe1-90b4-4aa0-a554-597e76a2e97a button.colab-df-convert');\n",
              "      buttonEl.style.display =\n",
              "        google.colab.kernel.accessAllowed ? 'block' : 'none';\n",
              "\n",
              "      async function convertToInteractive(key) {\n",
              "        const element = document.querySelector('#df-dfecbbe1-90b4-4aa0-a554-597e76a2e97a');\n",
              "        const dataTable =\n",
              "          await google.colab.kernel.invokeFunction('convertToInteractive',\n",
              "                                                    [key], {});\n",
              "        if (!dataTable) return;\n",
              "\n",
              "        const docLinkHtml = 'Like what you see? Visit the ' +\n",
              "          '<a target=\"_blank\" href=https://colab.research.google.com/notebooks/data_table.ipynb>data table notebook</a>'\n",
              "          + ' to learn more about interactive tables.';\n",
              "        element.innerHTML = '';\n",
              "        dataTable['output_type'] = 'display_data';\n",
              "        await google.colab.output.renderOutput(dataTable, element);\n",
              "        const docLink = document.createElement('div');\n",
              "        docLink.innerHTML = docLinkHtml;\n",
              "        element.appendChild(docLink);\n",
              "      }\n",
              "    </script>\n",
              "  </div>\n",
              "\n",
              "\n",
              "<div id=\"df-d676ee1f-e496-4176-84cb-ef83e60b0469\">\n",
              "  <button class=\"colab-df-quickchart\" onclick=\"quickchart('df-d676ee1f-e496-4176-84cb-ef83e60b0469')\"\n",
              "            title=\"Suggest charts\"\n",
              "            style=\"display:none;\">\n",
              "\n",
              "<svg xmlns=\"http://www.w3.org/2000/svg\" height=\"24px\"viewBox=\"0 0 24 24\"\n",
              "     width=\"24px\">\n",
              "    <g>\n",
              "        <path d=\"M19 3H5c-1.1 0-2 .9-2 2v14c0 1.1.9 2 2 2h14c1.1 0 2-.9 2-2V5c0-1.1-.9-2-2-2zM9 17H7v-7h2v7zm4 0h-2V7h2v10zm4 0h-2v-4h2v4z\"/>\n",
              "    </g>\n",
              "</svg>\n",
              "  </button>\n",
              "\n",
              "<style>\n",
              "  .colab-df-quickchart {\n",
              "      --bg-color: #E8F0FE;\n",
              "      --fill-color: #1967D2;\n",
              "      --hover-bg-color: #E2EBFA;\n",
              "      --hover-fill-color: #174EA6;\n",
              "      --disabled-fill-color: #AAA;\n",
              "      --disabled-bg-color: #DDD;\n",
              "  }\n",
              "\n",
              "  [theme=dark] .colab-df-quickchart {\n",
              "      --bg-color: #3B4455;\n",
              "      --fill-color: #D2E3FC;\n",
              "      --hover-bg-color: #434B5C;\n",
              "      --hover-fill-color: #FFFFFF;\n",
              "      --disabled-bg-color: #3B4455;\n",
              "      --disabled-fill-color: #666;\n",
              "  }\n",
              "\n",
              "  .colab-df-quickchart {\n",
              "    background-color: var(--bg-color);\n",
              "    border: none;\n",
              "    border-radius: 50%;\n",
              "    cursor: pointer;\n",
              "    display: none;\n",
              "    fill: var(--fill-color);\n",
              "    height: 32px;\n",
              "    padding: 0;\n",
              "    width: 32px;\n",
              "  }\n",
              "\n",
              "  .colab-df-quickchart:hover {\n",
              "    background-color: var(--hover-bg-color);\n",
              "    box-shadow: 0 1px 2px rgba(60, 64, 67, 0.3), 0 1px 3px 1px rgba(60, 64, 67, 0.15);\n",
              "    fill: var(--button-hover-fill-color);\n",
              "  }\n",
              "\n",
              "  .colab-df-quickchart-complete:disabled,\n",
              "  .colab-df-quickchart-complete:disabled:hover {\n",
              "    background-color: var(--disabled-bg-color);\n",
              "    fill: var(--disabled-fill-color);\n",
              "    box-shadow: none;\n",
              "  }\n",
              "\n",
              "  .colab-df-spinner {\n",
              "    border: 2px solid var(--fill-color);\n",
              "    border-color: transparent;\n",
              "    border-bottom-color: var(--fill-color);\n",
              "    animation:\n",
              "      spin 1s steps(1) infinite;\n",
              "  }\n",
              "\n",
              "  @keyframes spin {\n",
              "    0% {\n",
              "      border-color: transparent;\n",
              "      border-bottom-color: var(--fill-color);\n",
              "      border-left-color: var(--fill-color);\n",
              "    }\n",
              "    20% {\n",
              "      border-color: transparent;\n",
              "      border-left-color: var(--fill-color);\n",
              "      border-top-color: var(--fill-color);\n",
              "    }\n",
              "    30% {\n",
              "      border-color: transparent;\n",
              "      border-left-color: var(--fill-color);\n",
              "      border-top-color: var(--fill-color);\n",
              "      border-right-color: var(--fill-color);\n",
              "    }\n",
              "    40% {\n",
              "      border-color: transparent;\n",
              "      border-right-color: var(--fill-color);\n",
              "      border-top-color: var(--fill-color);\n",
              "    }\n",
              "    60% {\n",
              "      border-color: transparent;\n",
              "      border-right-color: var(--fill-color);\n",
              "    }\n",
              "    80% {\n",
              "      border-color: transparent;\n",
              "      border-right-color: var(--fill-color);\n",
              "      border-bottom-color: var(--fill-color);\n",
              "    }\n",
              "    90% {\n",
              "      border-color: transparent;\n",
              "      border-bottom-color: var(--fill-color);\n",
              "    }\n",
              "  }\n",
              "</style>\n",
              "\n",
              "  <script>\n",
              "    async function quickchart(key) {\n",
              "      const quickchartButtonEl =\n",
              "        document.querySelector('#' + key + ' button');\n",
              "      quickchartButtonEl.disabled = true;  // To prevent multiple clicks.\n",
              "      quickchartButtonEl.classList.add('colab-df-spinner');\n",
              "      try {\n",
              "        const charts = await google.colab.kernel.invokeFunction(\n",
              "            'suggestCharts', [key], {});\n",
              "      } catch (error) {\n",
              "        console.error('Error during call to suggestCharts:', error);\n",
              "      }\n",
              "      quickchartButtonEl.classList.remove('colab-df-spinner');\n",
              "      quickchartButtonEl.classList.add('colab-df-quickchart-complete');\n",
              "    }\n",
              "    (() => {\n",
              "      let quickchartButtonEl =\n",
              "        document.querySelector('#df-d676ee1f-e496-4176-84cb-ef83e60b0469 button');\n",
              "      quickchartButtonEl.style.display =\n",
              "        google.colab.kernel.accessAllowed ? 'block' : 'none';\n",
              "    })();\n",
              "  </script>\n",
              "</div>\n",
              "    </div>\n",
              "  </div>\n"
            ]
          },
          "metadata": {},
          "execution_count": 3
        }
      ]
    },
    {
      "cell_type": "markdown",
      "source": [
        "# Part 2"
      ],
      "metadata": {
        "id": "bEgz_PKavcoG"
      }
    },
    {
      "cell_type": "code",
      "source": [
        "from sklearn.utils import shuffle\n",
        "from sklearn.model_selection import train_test_split\n",
        "\n",
        "df = shuffle(df, random_state=93)\n",
        "df"
      ],
      "metadata": {
        "colab": {
          "base_uri": "https://localhost:8080/",
          "height": 423
        },
        "id": "6EjgeBiyqlZT",
        "outputId": "e208a831-d01d-4a05-ebf0-5b5c93af4782"
      },
      "execution_count": 4,
      "outputs": [
        {
          "output_type": "execute_result",
          "data": {
            "text/plain": [
              "      1'st feature  2'nd feature  3'rd feature  4'th feature  target\n",
              "1291      -0.76794       3.45980      -3.44050     -3.427600       1\n",
              "380        5.41880      10.14570      -4.08400     -3.699100       0\n",
              "852       -3.13660       0.42212       2.62250     -0.064238       1\n",
              "1345       1.25720       4.87310      -5.28610     -5.874100       1\n",
              "1194      -1.97250       2.88250      -2.30860     -2.372400       1\n",
              "...            ...           ...           ...           ...     ...\n",
              "560       -0.33729      -0.64976       7.66590      0.723260       0\n",
              "1109      -3.89520       3.81570      -0.31304     -3.819400       1\n",
              "207        2.10590       7.60460      -0.47755     -1.846100       0\n",
              "1176      -0.89542       2.02790      -2.36520     -1.274600       1\n",
              "421        4.83680      10.01320      -4.32390     -4.327600       0\n",
              "\n",
              "[1371 rows x 5 columns]"
            ],
            "text/html": [
              "\n",
              "  <div id=\"df-7e0f8295-ad2f-47e2-9297-3fcd0de36304\" class=\"colab-df-container\">\n",
              "    <div>\n",
              "<style scoped>\n",
              "    .dataframe tbody tr th:only-of-type {\n",
              "        vertical-align: middle;\n",
              "    }\n",
              "\n",
              "    .dataframe tbody tr th {\n",
              "        vertical-align: top;\n",
              "    }\n",
              "\n",
              "    .dataframe thead th {\n",
              "        text-align: right;\n",
              "    }\n",
              "</style>\n",
              "<table border=\"1\" class=\"dataframe\">\n",
              "  <thead>\n",
              "    <tr style=\"text-align: right;\">\n",
              "      <th></th>\n",
              "      <th>1'st feature</th>\n",
              "      <th>2'nd feature</th>\n",
              "      <th>3'rd feature</th>\n",
              "      <th>4'th feature</th>\n",
              "      <th>target</th>\n",
              "    </tr>\n",
              "  </thead>\n",
              "  <tbody>\n",
              "    <tr>\n",
              "      <th>1291</th>\n",
              "      <td>-0.76794</td>\n",
              "      <td>3.45980</td>\n",
              "      <td>-3.44050</td>\n",
              "      <td>-3.427600</td>\n",
              "      <td>1</td>\n",
              "    </tr>\n",
              "    <tr>\n",
              "      <th>380</th>\n",
              "      <td>5.41880</td>\n",
              "      <td>10.14570</td>\n",
              "      <td>-4.08400</td>\n",
              "      <td>-3.699100</td>\n",
              "      <td>0</td>\n",
              "    </tr>\n",
              "    <tr>\n",
              "      <th>852</th>\n",
              "      <td>-3.13660</td>\n",
              "      <td>0.42212</td>\n",
              "      <td>2.62250</td>\n",
              "      <td>-0.064238</td>\n",
              "      <td>1</td>\n",
              "    </tr>\n",
              "    <tr>\n",
              "      <th>1345</th>\n",
              "      <td>1.25720</td>\n",
              "      <td>4.87310</td>\n",
              "      <td>-5.28610</td>\n",
              "      <td>-5.874100</td>\n",
              "      <td>1</td>\n",
              "    </tr>\n",
              "    <tr>\n",
              "      <th>1194</th>\n",
              "      <td>-1.97250</td>\n",
              "      <td>2.88250</td>\n",
              "      <td>-2.30860</td>\n",
              "      <td>-2.372400</td>\n",
              "      <td>1</td>\n",
              "    </tr>\n",
              "    <tr>\n",
              "      <th>...</th>\n",
              "      <td>...</td>\n",
              "      <td>...</td>\n",
              "      <td>...</td>\n",
              "      <td>...</td>\n",
              "      <td>...</td>\n",
              "    </tr>\n",
              "    <tr>\n",
              "      <th>560</th>\n",
              "      <td>-0.33729</td>\n",
              "      <td>-0.64976</td>\n",
              "      <td>7.66590</td>\n",
              "      <td>0.723260</td>\n",
              "      <td>0</td>\n",
              "    </tr>\n",
              "    <tr>\n",
              "      <th>1109</th>\n",
              "      <td>-3.89520</td>\n",
              "      <td>3.81570</td>\n",
              "      <td>-0.31304</td>\n",
              "      <td>-3.819400</td>\n",
              "      <td>1</td>\n",
              "    </tr>\n",
              "    <tr>\n",
              "      <th>207</th>\n",
              "      <td>2.10590</td>\n",
              "      <td>7.60460</td>\n",
              "      <td>-0.47755</td>\n",
              "      <td>-1.846100</td>\n",
              "      <td>0</td>\n",
              "    </tr>\n",
              "    <tr>\n",
              "      <th>1176</th>\n",
              "      <td>-0.89542</td>\n",
              "      <td>2.02790</td>\n",
              "      <td>-2.36520</td>\n",
              "      <td>-1.274600</td>\n",
              "      <td>1</td>\n",
              "    </tr>\n",
              "    <tr>\n",
              "      <th>421</th>\n",
              "      <td>4.83680</td>\n",
              "      <td>10.01320</td>\n",
              "      <td>-4.32390</td>\n",
              "      <td>-4.327600</td>\n",
              "      <td>0</td>\n",
              "    </tr>\n",
              "  </tbody>\n",
              "</table>\n",
              "<p>1371 rows × 5 columns</p>\n",
              "</div>\n",
              "    <div class=\"colab-df-buttons\">\n",
              "\n",
              "  <div class=\"colab-df-container\">\n",
              "    <button class=\"colab-df-convert\" onclick=\"convertToInteractive('df-7e0f8295-ad2f-47e2-9297-3fcd0de36304')\"\n",
              "            title=\"Convert this dataframe to an interactive table.\"\n",
              "            style=\"display:none;\">\n",
              "\n",
              "  <svg xmlns=\"http://www.w3.org/2000/svg\" height=\"24px\" viewBox=\"0 -960 960 960\">\n",
              "    <path d=\"M120-120v-720h720v720H120Zm60-500h600v-160H180v160Zm220 220h160v-160H400v160Zm0 220h160v-160H400v160ZM180-400h160v-160H180v160Zm440 0h160v-160H620v160ZM180-180h160v-160H180v160Zm440 0h160v-160H620v160Z\"/>\n",
              "  </svg>\n",
              "    </button>\n",
              "\n",
              "  <style>\n",
              "    .colab-df-container {\n",
              "      display:flex;\n",
              "      gap: 12px;\n",
              "    }\n",
              "\n",
              "    .colab-df-convert {\n",
              "      background-color: #E8F0FE;\n",
              "      border: none;\n",
              "      border-radius: 50%;\n",
              "      cursor: pointer;\n",
              "      display: none;\n",
              "      fill: #1967D2;\n",
              "      height: 32px;\n",
              "      padding: 0 0 0 0;\n",
              "      width: 32px;\n",
              "    }\n",
              "\n",
              "    .colab-df-convert:hover {\n",
              "      background-color: #E2EBFA;\n",
              "      box-shadow: 0px 1px 2px rgba(60, 64, 67, 0.3), 0px 1px 3px 1px rgba(60, 64, 67, 0.15);\n",
              "      fill: #174EA6;\n",
              "    }\n",
              "\n",
              "    .colab-df-buttons div {\n",
              "      margin-bottom: 4px;\n",
              "    }\n",
              "\n",
              "    [theme=dark] .colab-df-convert {\n",
              "      background-color: #3B4455;\n",
              "      fill: #D2E3FC;\n",
              "    }\n",
              "\n",
              "    [theme=dark] .colab-df-convert:hover {\n",
              "      background-color: #434B5C;\n",
              "      box-shadow: 0px 1px 3px 1px rgba(0, 0, 0, 0.15);\n",
              "      filter: drop-shadow(0px 1px 2px rgba(0, 0, 0, 0.3));\n",
              "      fill: #FFFFFF;\n",
              "    }\n",
              "  </style>\n",
              "\n",
              "    <script>\n",
              "      const buttonEl =\n",
              "        document.querySelector('#df-7e0f8295-ad2f-47e2-9297-3fcd0de36304 button.colab-df-convert');\n",
              "      buttonEl.style.display =\n",
              "        google.colab.kernel.accessAllowed ? 'block' : 'none';\n",
              "\n",
              "      async function convertToInteractive(key) {\n",
              "        const element = document.querySelector('#df-7e0f8295-ad2f-47e2-9297-3fcd0de36304');\n",
              "        const dataTable =\n",
              "          await google.colab.kernel.invokeFunction('convertToInteractive',\n",
              "                                                    [key], {});\n",
              "        if (!dataTable) return;\n",
              "\n",
              "        const docLinkHtml = 'Like what you see? Visit the ' +\n",
              "          '<a target=\"_blank\" href=https://colab.research.google.com/notebooks/data_table.ipynb>data table notebook</a>'\n",
              "          + ' to learn more about interactive tables.';\n",
              "        element.innerHTML = '';\n",
              "        dataTable['output_type'] = 'display_data';\n",
              "        await google.colab.output.renderOutput(dataTable, element);\n",
              "        const docLink = document.createElement('div');\n",
              "        docLink.innerHTML = docLinkHtml;\n",
              "        element.appendChild(docLink);\n",
              "      }\n",
              "    </script>\n",
              "  </div>\n",
              "\n",
              "\n",
              "<div id=\"df-726d6c26-050d-47ae-a0cf-b3daaeb8e6cf\">\n",
              "  <button class=\"colab-df-quickchart\" onclick=\"quickchart('df-726d6c26-050d-47ae-a0cf-b3daaeb8e6cf')\"\n",
              "            title=\"Suggest charts\"\n",
              "            style=\"display:none;\">\n",
              "\n",
              "<svg xmlns=\"http://www.w3.org/2000/svg\" height=\"24px\"viewBox=\"0 0 24 24\"\n",
              "     width=\"24px\">\n",
              "    <g>\n",
              "        <path d=\"M19 3H5c-1.1 0-2 .9-2 2v14c0 1.1.9 2 2 2h14c1.1 0 2-.9 2-2V5c0-1.1-.9-2-2-2zM9 17H7v-7h2v7zm4 0h-2V7h2v10zm4 0h-2v-4h2v4z\"/>\n",
              "    </g>\n",
              "</svg>\n",
              "  </button>\n",
              "\n",
              "<style>\n",
              "  .colab-df-quickchart {\n",
              "      --bg-color: #E8F0FE;\n",
              "      --fill-color: #1967D2;\n",
              "      --hover-bg-color: #E2EBFA;\n",
              "      --hover-fill-color: #174EA6;\n",
              "      --disabled-fill-color: #AAA;\n",
              "      --disabled-bg-color: #DDD;\n",
              "  }\n",
              "\n",
              "  [theme=dark] .colab-df-quickchart {\n",
              "      --bg-color: #3B4455;\n",
              "      --fill-color: #D2E3FC;\n",
              "      --hover-bg-color: #434B5C;\n",
              "      --hover-fill-color: #FFFFFF;\n",
              "      --disabled-bg-color: #3B4455;\n",
              "      --disabled-fill-color: #666;\n",
              "  }\n",
              "\n",
              "  .colab-df-quickchart {\n",
              "    background-color: var(--bg-color);\n",
              "    border: none;\n",
              "    border-radius: 50%;\n",
              "    cursor: pointer;\n",
              "    display: none;\n",
              "    fill: var(--fill-color);\n",
              "    height: 32px;\n",
              "    padding: 0;\n",
              "    width: 32px;\n",
              "  }\n",
              "\n",
              "  .colab-df-quickchart:hover {\n",
              "    background-color: var(--hover-bg-color);\n",
              "    box-shadow: 0 1px 2px rgba(60, 64, 67, 0.3), 0 1px 3px 1px rgba(60, 64, 67, 0.15);\n",
              "    fill: var(--button-hover-fill-color);\n",
              "  }\n",
              "\n",
              "  .colab-df-quickchart-complete:disabled,\n",
              "  .colab-df-quickchart-complete:disabled:hover {\n",
              "    background-color: var(--disabled-bg-color);\n",
              "    fill: var(--disabled-fill-color);\n",
              "    box-shadow: none;\n",
              "  }\n",
              "\n",
              "  .colab-df-spinner {\n",
              "    border: 2px solid var(--fill-color);\n",
              "    border-color: transparent;\n",
              "    border-bottom-color: var(--fill-color);\n",
              "    animation:\n",
              "      spin 1s steps(1) infinite;\n",
              "  }\n",
              "\n",
              "  @keyframes spin {\n",
              "    0% {\n",
              "      border-color: transparent;\n",
              "      border-bottom-color: var(--fill-color);\n",
              "      border-left-color: var(--fill-color);\n",
              "    }\n",
              "    20% {\n",
              "      border-color: transparent;\n",
              "      border-left-color: var(--fill-color);\n",
              "      border-top-color: var(--fill-color);\n",
              "    }\n",
              "    30% {\n",
              "      border-color: transparent;\n",
              "      border-left-color: var(--fill-color);\n",
              "      border-top-color: var(--fill-color);\n",
              "      border-right-color: var(--fill-color);\n",
              "    }\n",
              "    40% {\n",
              "      border-color: transparent;\n",
              "      border-right-color: var(--fill-color);\n",
              "      border-top-color: var(--fill-color);\n",
              "    }\n",
              "    60% {\n",
              "      border-color: transparent;\n",
              "      border-right-color: var(--fill-color);\n",
              "    }\n",
              "    80% {\n",
              "      border-color: transparent;\n",
              "      border-right-color: var(--fill-color);\n",
              "      border-bottom-color: var(--fill-color);\n",
              "    }\n",
              "    90% {\n",
              "      border-color: transparent;\n",
              "      border-bottom-color: var(--fill-color);\n",
              "    }\n",
              "  }\n",
              "</style>\n",
              "\n",
              "  <script>\n",
              "    async function quickchart(key) {\n",
              "      const quickchartButtonEl =\n",
              "        document.querySelector('#' + key + ' button');\n",
              "      quickchartButtonEl.disabled = true;  // To prevent multiple clicks.\n",
              "      quickchartButtonEl.classList.add('colab-df-spinner');\n",
              "      try {\n",
              "        const charts = await google.colab.kernel.invokeFunction(\n",
              "            'suggestCharts', [key], {});\n",
              "      } catch (error) {\n",
              "        console.error('Error during call to suggestCharts:', error);\n",
              "      }\n",
              "      quickchartButtonEl.classList.remove('colab-df-spinner');\n",
              "      quickchartButtonEl.classList.add('colab-df-quickchart-complete');\n",
              "    }\n",
              "    (() => {\n",
              "      let quickchartButtonEl =\n",
              "        document.querySelector('#df-726d6c26-050d-47ae-a0cf-b3daaeb8e6cf button');\n",
              "      quickchartButtonEl.style.display =\n",
              "        google.colab.kernel.accessAllowed ? 'block' : 'none';\n",
              "    })();\n",
              "  </script>\n",
              "</div>\n",
              "    </div>\n",
              "  </div>\n"
            ]
          },
          "metadata": {},
          "execution_count": 4
        }
      ]
    },
    {
      "cell_type": "code",
      "source": [
        "X = df[[\"1'st feature\", \"2'nd feature\", \"3'rd feature\", \"4'th feature\"]].values\n",
        "\n",
        "y = df[[\"target\"]].values\n",
        "X ,y"
      ],
      "metadata": {
        "colab": {
          "base_uri": "https://localhost:8080/"
        },
        "id": "4UBx1awavoYP",
        "outputId": "8e06decf-536e-4e7a-9f0f-bc3f56121507"
      },
      "execution_count": 5,
      "outputs": [
        {
          "output_type": "execute_result",
          "data": {
            "text/plain": [
              "(array([[-0.76794 ,  3.4598  , -3.4405  , -3.4276  ],\n",
              "        [ 5.4188  , 10.1457  , -4.084   , -3.6991  ],\n",
              "        [-3.1366  ,  0.42212 ,  2.6225  , -0.064238],\n",
              "        ...,\n",
              "        [ 2.1059  ,  7.6046  , -0.47755 , -1.8461  ],\n",
              "        [-0.89542 ,  2.0279  , -2.3652  , -1.2746  ],\n",
              "        [ 4.8368  , 10.0132  , -4.3239  , -4.3276  ]]),\n",
              " array([[1],\n",
              "        [0],\n",
              "        [1],\n",
              "        ...,\n",
              "        [0],\n",
              "        [1],\n",
              "        [0]]))"
            ]
          },
          "metadata": {},
          "execution_count": 5
        }
      ]
    },
    {
      "cell_type": "code",
      "source": [
        "x_train , x_test , y_train , y_test = train_test_split(X , y , test_size = 0.2, random_state=93)\n",
        "x_train.shape , x_test.shape , y_train.shape , y_test.shape"
      ],
      "metadata": {
        "colab": {
          "base_uri": "https://localhost:8080/"
        },
        "id": "Oa-6q2EVwZ-o",
        "outputId": "56a37bb0-b929-44d6-8c76-08b2ea487768"
      },
      "execution_count": 6,
      "outputs": [
        {
          "output_type": "execute_result",
          "data": {
            "text/plain": [
              "((1096, 4), (275, 4), (1096, 1), (275, 1))"
            ]
          },
          "metadata": {},
          "execution_count": 6
        }
      ]
    },
    {
      "cell_type": "markdown",
      "source": [
        "# Part 3"
      ],
      "metadata": {
        "id": "93zmeyls24g2"
      }
    },
    {
      "cell_type": "markdown",
      "source": [
        "## Logistic Regression Model"
      ],
      "metadata": {
        "id": "orJ7ewAJ3CAT"
      }
    },
    {
      "cell_type": "markdown",
      "source": [
        "### Sigmoid"
      ],
      "metadata": {
        "id": "o3OJHQKR3Zex"
      }
    },
    {
      "cell_type": "code",
      "source": [
        "def sigmoid(x):\n",
        "  return 1/(1+np.exp(-x))"
      ],
      "metadata": {
        "id": "1KZIR96J28zL"
      },
      "execution_count": 7,
      "outputs": []
    },
    {
      "cell_type": "code",
      "source": [
        "def logistic_regression(x, w):\n",
        "  y_hat = sigmoid(x @ w)\n",
        "  return y_hat"
      ],
      "metadata": {
        "id": "5RGm-TGC3MAk"
      },
      "execution_count": 8,
      "outputs": []
    },
    {
      "cell_type": "markdown",
      "source": [
        "### Binary Cross Entropy(BCE)"
      ],
      "metadata": {
        "id": "VAwGi56Y3W5g"
      }
    },
    {
      "cell_type": "code",
      "source": [
        "def bce(y, y_hat):\n",
        "  loss = -(np.mean(y*np.log(y_hat) + (1-y)*np.log(1-y_hat)))\n",
        "  return loss"
      ],
      "metadata": {
        "id": "1TVtuUdh3PRY"
      },
      "execution_count": 9,
      "outputs": []
    },
    {
      "cell_type": "markdown",
      "source": [
        "### Gradient"
      ],
      "metadata": {
        "id": "O4GhNCnE3ksa"
      }
    },
    {
      "cell_type": "code",
      "source": [
        "def gradient(x, y, y_hat):\n",
        "  grads = (x.T @ (y_hat-y))/len(y)\n",
        "  return grads"
      ],
      "metadata": {
        "id": "7tvzOGCn3iJA"
      },
      "execution_count": 10,
      "outputs": []
    },
    {
      "cell_type": "markdown",
      "source": [
        "### Gradient Descent"
      ],
      "metadata": {
        "id": "xXzVbyMz30m7"
      }
    },
    {
      "cell_type": "code",
      "source": [
        "def gradient_descent(w, eta, grads):\n",
        "  w -= eta*grads\n",
        "  return w"
      ],
      "metadata": {
        "id": "-9uoIw8Y33nD"
      },
      "execution_count": 11,
      "outputs": []
    },
    {
      "cell_type": "markdown",
      "source": [
        "### Accuracy"
      ],
      "metadata": {
        "id": "QbZDMAWX4cfj"
      }
    },
    {
      "cell_type": "code",
      "source": [
        "def accuracy(y, y_hat):\n",
        "  acc = np.sum(y == np.round(y_hat))/len(y)\n",
        "  return acc"
      ],
      "metadata": {
        "id": "4bCJW3Up4fOS"
      },
      "execution_count": 12,
      "outputs": []
    },
    {
      "cell_type": "markdown",
      "source": [
        "### Train"
      ],
      "metadata": {
        "id": "Kpi23ZqQ4DYm"
      }
    },
    {
      "cell_type": "code",
      "source": [
        "x_train = np.hstack((np.ones((len(x_train), 1)), x_train))\n",
        "x_train.shape"
      ],
      "metadata": {
        "colab": {
          "base_uri": "https://localhost:8080/"
        },
        "id": "UDNOLzOn4FCX",
        "outputId": "2ea2a5d7-ef6c-4bdc-d0c5-5bfc2a9a7f5d"
      },
      "execution_count": 13,
      "outputs": [
        {
          "output_type": "execute_result",
          "data": {
            "text/plain": [
              "(1096, 5)"
            ]
          },
          "metadata": {},
          "execution_count": 13
        }
      ]
    },
    {
      "cell_type": "code",
      "source": [
        "m = 4 # number of features\n",
        "w = np.random.randn(m+1, 1)\n",
        "print(w.shape)\n",
        "\n",
        "eta = 0.01 # learning rate\n",
        "n_epochs = 4500 # number of epochs"
      ],
      "metadata": {
        "colab": {
          "base_uri": "https://localhost:8080/"
        },
        "id": "sJXw1i794qw_",
        "outputId": "d4f80908-dba9-4735-eefb-5d763831bb5b"
      },
      "execution_count": 14,
      "outputs": [
        {
          "output_type": "stream",
          "name": "stdout",
          "text": [
            "(5, 1)\n"
          ]
        }
      ]
    },
    {
      "cell_type": "code",
      "source": [
        "error_hist = []\n",
        "\n",
        "for epoch in range(n_epochs):\n",
        "  # predictions\n",
        "  y_hat = logistic_regression(x_train, w)\n",
        "\n",
        "  # loss\n",
        "  e = bce(y_train, y_hat)\n",
        "  error_hist.append(e)\n",
        "\n",
        "  # gradients\n",
        "  grads = gradient(x_train, y_train, y_hat)\n",
        "\n",
        "  # gradient descent\n",
        "  w = gradient_descent(w, eta, grads)\n",
        "\n",
        "  if (epoch+1) % 100 ==0:\n",
        "    print(f'Epoch={epoch}, \\t E={e:.4},\\t w={w.T[0]}')"
      ],
      "metadata": {
        "colab": {
          "base_uri": "https://localhost:8080/"
        },
        "id": "tOfXfYsP491X",
        "outputId": "18356105-6938-4cc6-8dac-a877fecdc05d"
      },
      "execution_count": 15,
      "outputs": [
        {
          "output_type": "stream",
          "name": "stdout",
          "text": [
            "Epoch=99, \t E=0.483,\t w=[ 0.73246021 -1.4485933  -0.37492168  0.29757747  0.02989807]\n",
            "Epoch=199, \t E=0.1755,\t w=[ 0.73792781 -1.41606648 -0.34016641 -0.22829349 -0.00873157]\n",
            "Epoch=299, \t E=0.1185,\t w=[ 0.75902331 -1.38282611 -0.39869088 -0.44897037 -0.01410169]\n",
            "Epoch=399, \t E=0.1019,\t w=[ 0.78875201 -1.37180797 -0.46010358 -0.55489939 -0.02381256]\n",
            "Epoch=499, \t E=0.09374,\t w=[ 0.82222886 -1.37305017 -0.51270089 -0.61704767 -0.0401419 ]\n",
            "Epoch=599, \t E=0.08829,\t w=[ 0.8566244  -1.38012137 -0.55582174 -0.66139063 -0.05915282]\n",
            "Epoch=699, \t E=0.08409,\t w=[ 0.89067857 -1.39014191 -0.59190675 -0.69682825 -0.07820625]\n",
            "Epoch=799, \t E=0.08065,\t w=[ 0.9238741  -1.40174467 -0.62298239 -0.72695392 -0.09610632]\n",
            "Epoch=899, \t E=0.07774,\t w=[ 0.95601802 -1.41421241 -0.65038039 -0.75353299 -0.11241639]\n",
            "Epoch=999, \t E=0.0752,\t w=[ 0.98706262 -1.42714233 -0.67496936 -0.77755625 -0.12705301]\n",
            "Epoch=1099, \t E=0.07297,\t w=[ 1.01702596 -1.44029714 -0.69733621 -0.79963151 -0.14008813]\n",
            "Epoch=1199, \t E=0.07098,\t w=[ 1.04595482 -1.45353187 -0.71789405 -0.82015707 -0.15165538]\n",
            "Epoch=1299, \t E=0.06918,\t w=[ 1.07390696 -1.46675534 -0.73694481 -0.83940805 -0.16190602]\n",
            "Epoch=1399, \t E=0.06755,\t w=[ 1.10094252 -1.47990884 -0.75471645 -0.85758311 -0.17098879]\n",
            "Epoch=1499, \t E=0.06605,\t w=[ 1.12711992 -1.492954   -0.77138599 -0.87483112 -0.17904131]\n",
            "Epoch=1599, \t E=0.06467,\t w=[ 1.15249411 -1.5058655  -0.78709414 -0.89126729 -0.18618706]\n"
          ]
        },
        {
          "output_type": "stream",
          "name": "stderr",
          "text": [
            "<ipython-input-9-b0d2f89eca7a>:2: RuntimeWarning: divide by zero encountered in log\n",
            "  loss = -(np.mean(y*np.log(y_hat) + (1-y)*np.log(1-y_hat)))\n",
            "<ipython-input-9-b0d2f89eca7a>:2: RuntimeWarning: invalid value encountered in multiply\n",
            "  loss = -(np.mean(y*np.log(y_hat) + (1-y)*np.log(1-y_hat)))\n"
          ]
        },
        {
          "output_type": "stream",
          "name": "stdout",
          "text": [
            "Epoch=1699, \t E=0.0634,\t w=[ 1.17711588 -1.51862666 -0.80195498 -0.90698321 -0.19253506]\n",
            "Epoch=1799, \t E=0.06221,\t w=[ 1.20103175 -1.53122667 -0.81606255 -0.92205336 -0.19818073]\n",
            "Epoch=1899, \t E=0.06109,\t w=[ 1.2242842  -1.54365878 -0.82949553 -0.93653951 -0.20320725]\n",
            "Epoch=1999, \t E=0.06005,\t w=[ 1.24691193 -1.55591911 -0.84232046 -0.95049372 -0.20768699]\n",
            "Epoch=2099, \t E=0.05907,\t w=[ 1.26895024 -1.56800584 -0.85459431 -0.96396049 -0.21168293]\n",
            "Epoch=2199, \t E=0.05815,\t w=[ 1.29043135 -1.57991864 -0.86636619 -0.97697828 -0.21524992]\n",
            "Epoch=2299, \t E=0.05727,\t w=[ 1.31138474 -1.59165829 -0.87767887 -0.98958069 -0.21843581]\n",
            "Epoch=2399, \t E=0.05645,\t w=[ 1.33183741 -1.60322638 -0.88856979 -1.00179732 -0.22128241]\n",
            "Epoch=2499, \t E=0.05566,\t w=[ 1.3518142  -1.61462509 -0.89907195 -1.01365443 -0.22382637]\n",
            "Epoch=2599, \t E=0.05491,\t w=[ 1.37133795 -1.62585707 -0.90921461 -1.02517549 -0.22609984]\n",
            "Epoch=2699, \t E=0.0542,\t w=[ 1.39042978 -1.63692525 -0.91902382 -1.03638156 -0.22813114]\n",
            "Epoch=2799, \t E=0.05352,\t w=[ 1.40910921 -1.64783283 -0.92852289 -1.04729166 -0.22994523]\n",
            "Epoch=2899, \t E=0.05287,\t w=[ 1.42739438 -1.65858314 -0.93773278 -1.05792306 -0.23156419]\n",
            "Epoch=2999, \t E=0.05224,\t w=[ 1.44530212 -1.66917961 -0.94667237 -1.06829144 -0.23300759]\n",
            "Epoch=3099, \t E=0.05165,\t w=[ 1.46284813 -1.67962577 -0.95535877 -1.07841117 -0.23429281]\n",
            "Epoch=3199, \t E=0.05107,\t w=[ 1.48004705 -1.68992512 -0.9638075  -1.0882954  -0.2354353 ]\n",
            "Epoch=3299, \t E=0.05052,\t w=[ 1.4969126  -1.7000812  -0.9720327  -1.09795622 -0.23644886]\n",
            "Epoch=3399, \t E=0.05,\t w=[ 1.51345761 -1.71009752 -0.98004727 -1.10740478 -0.23734582]\n",
            "Epoch=3499, \t E=0.04949,\t w=[ 1.52969415 -1.71997754 -0.98786305 -1.1166514  -0.23813722]\n",
            "Epoch=3599, \t E=0.049,\t w=[ 1.54563354 -1.72972467 -0.99549089 -1.12570562 -0.23883294]\n",
            "Epoch=3699, \t E=0.04852,\t w=[ 1.56128648 -1.73934228 -1.00294077 -1.1345763  -0.23944189]\n",
            "Epoch=3799, \t E=0.04807,\t w=[ 1.57666303 -1.74883365 -1.0102219  -1.14327171 -0.23997208]\n",
            "Epoch=3899, \t E=0.04763,\t w=[ 1.59177271 -1.75820199 -1.0173428  -1.15179952 -0.24043071]\n",
            "Epoch=3999, \t E=0.0472,\t w=[ 1.60662451 -1.76745045 -1.02431133 -1.16016693 -0.24082431]\n",
            "Epoch=4099, \t E=0.04679,\t w=[ 1.62122698 -1.77658208 -1.03113481 -1.16838065 -0.24115877]\n",
            "Epoch=4199, \t E=0.0464,\t w=[ 1.63558818 -1.78559985 -1.03782003 -1.17644696 -0.24143941]\n",
            "Epoch=4299, \t E=0.04601,\t w=[ 1.6497158  -1.79450666 -1.04437331 -1.18437179 -0.24167108]\n",
            "Epoch=4399, \t E=0.04564,\t w=[ 1.66361714 -1.80330533 -1.05080054 -1.19216068 -0.24185817]\n",
            "Epoch=4499, \t E=0.04528,\t w=[ 1.67729914 -1.81199856 -1.05710722 -1.19981884 -0.24200466]\n"
          ]
        }
      ]
    },
    {
      "cell_type": "markdown",
      "source": [
        "### Loss fuction"
      ],
      "metadata": {
        "id": "FMQEE-Ll_ddM"
      }
    },
    {
      "cell_type": "code",
      "source": [
        "plt.figure(figsize=(8, 6))\n",
        "plt.plot(error_hist)\n",
        "plt.xlabel(\"Number of Epochs\")\n",
        "plt.ylabel(\"Error\")\n",
        "plt.title('Loss Function')\n",
        "plt.grid(alpha=0.5)"
      ],
      "metadata": {
        "colab": {
          "base_uri": "https://localhost:8080/",
          "height": 0
        },
        "id": "68RytWNL4_AF",
        "outputId": "ca97e216-2875-4aac-b58a-29ac80777564"
      },
      "execution_count": 16,
      "outputs": [
        {
          "output_type": "display_data",
          "data": {
            "text/plain": [
              "<Figure size 800x600 with 1 Axes>"
            ],
            "image/png": "[encoded data removed]"
          },
          "metadata": {}
        }
      ]
    },
    {
      "cell_type": "markdown",
      "source": [
        "### Test"
      ],
      "metadata": {
        "id": "zUBMlg8d_1e0"
      }
    },
    {
      "cell_type": "code",
      "source": [
        "x_test = np.hstack((np.ones((len(x_test), 1)), x_test))\n",
        "x_test.shape"
      ],
      "metadata": {
        "colab": {
          "base_uri": "https://localhost:8080/"
        },
        "id": "GEdl7g0c_3oO",
        "outputId": "f0740edc-7896-4426-dae6-e7941ca4f9f4"
      },
      "execution_count": 17,
      "outputs": [
        {
          "output_type": "execute_result",
          "data": {
            "text/plain": [
              "(275, 5)"
            ]
          },
          "metadata": {},
          "execution_count": 17
        }
      ]
    },
    {
      "cell_type": "code",
      "source": [
        "y_hat = logistic_regression(x_test, w)\n",
        "accuracy(y_test, y_hat)"
      ],
      "metadata": {
        "colab": {
          "base_uri": "https://localhost:8080/"
        },
        "id": "RU-1j_g8_5le",
        "outputId": "8550a63a-f7f4-49e9-d22c-add901ddae34"
      },
      "execution_count": 18,
      "outputs": [
        {
          "output_type": "execute_result",
          "data": {
            "text/plain": [
              "0.9818181818181818"
            ]
          },
          "metadata": {},
          "execution_count": 18
        }
      ]
    },
    {
      "cell_type": "markdown",
      "source": [
        "# Part 4"
      ],
      "metadata": {
        "id": "okHotX-yOQUS"
      }
    },
    {
      "cell_type": "code",
      "source": [
        "mean = np.mean(X, axis=0)\n",
        "std = np.std(X, axis=0)\n",
        "\n",
        "normalized_X = (X - mean) / std\n",
        "normalized_X"
      ],
      "metadata": {
        "colab": {
          "base_uri": "https://localhost:8080/"
        },
        "id": "9HgHQRxNOWBr",
        "outputId": "94c6f41d-4387-48d5-f86c-abb8a0b22bb1"
      },
      "execution_count": 20,
      "outputs": [
        {
          "output_type": "execute_result",
          "data": {
            "text/plain": [
              "array([[-0.42208972,  0.26292336, -1.12362946, -1.06401182],\n",
              "       [ 1.75522238,  1.40265256, -1.27298425, -1.19324112],\n",
              "       [-1.25569709, -0.25490261,  0.28357818,  0.53689021],\n",
              "       ...,\n",
              "       [ 0.58930668,  0.96947739, -0.43593593, -0.31124522],\n",
              "       [-0.46695402,  0.01883083, -0.87405493, -0.03922113],\n",
              "       [ 1.55039792,  1.3800656 , -1.32866446, -1.49239623]])"
            ]
          },
          "metadata": {},
          "execution_count": 20
        }
      ]
    },
    {
      "cell_type": "markdown",
      "source": [
        "# Part 5"
      ],
      "metadata": {
        "id": "DoNwCH6hr60H"
      }
    },
    {
      "cell_type": "code",
      "source": [
        "from sklearn.model_selection import train_test_split"
      ],
      "metadata": {
        "id": "NMt5QmavPVx7"
      },
      "execution_count": 21,
      "outputs": []
    },
    {
      "cell_type": "code",
      "source": [
        "x_train , x_test , y_train , y_test = train_test_split(normalized_X , y , test_size = 0.2, random_state=93)\n",
        "x_train.shape , x_test.shape , y_train.shape , y_test.shape"
      ],
      "metadata": {
        "colab": {
          "base_uri": "https://localhost:8080/"
        },
        "id": "P7BRHRwPPc6a",
        "outputId": "75465d85-8cd1-4d06-ef1d-defb270162f1"
      },
      "execution_count": 22,
      "outputs": [
        {
          "output_type": "execute_result",
          "data": {
            "text/plain": [
              "((1096, 4), (275, 4), (1096, 1), (275, 1))"
            ]
          },
          "metadata": {},
          "execution_count": 22
        }
      ]
    },
    {
      "cell_type": "markdown",
      "source": [
        "## Logistic Regression Model"
      ],
      "metadata": {
        "id": "BgANUDcPO1dg"
      }
    },
    {
      "cell_type": "markdown",
      "source": [
        "### Sigmoid"
      ],
      "metadata": {
        "id": "VJhNx41aO1dh"
      }
    },
    {
      "cell_type": "code",
      "source": [
        "def sigmoid(x):\n",
        "  return 1/(1+np.exp(-x))"
      ],
      "metadata": {
        "id": "0NU1ZyzFO1dh"
      },
      "execution_count": 23,
      "outputs": []
    },
    {
      "cell_type": "code",
      "source": [
        "def logistic_regression(x, w):\n",
        "  y_hat = sigmoid(x @ w)\n",
        "  return y_hat"
      ],
      "metadata": {
        "id": "nI_Dva3-O1di"
      },
      "execution_count": 24,
      "outputs": []
    },
    {
      "cell_type": "markdown",
      "source": [
        "### Binary Cross Entropy(BCE)"
      ],
      "metadata": {
        "id": "tIkNyyCTO1di"
      }
    },
    {
      "cell_type": "code",
      "source": [
        "def bce(y, y_hat):\n",
        "  loss = -(np.mean(y*np.log(y_hat) + (1-y)*np.log(1-y_hat)))\n",
        "  return loss"
      ],
      "metadata": {
        "id": "Lor7Ty_CO1dj"
      },
      "execution_count": 25,
      "outputs": []
    },
    {
      "cell_type": "markdown",
      "source": [
        "### Gradient"
      ],
      "metadata": {
        "id": "512sGFbwO1dj"
      }
    },
    {
      "cell_type": "code",
      "source": [
        "def gradient(x, y, y_hat):\n",
        "  grads = (x.T @ (y_hat-y))/len(y)\n",
        "  return grads"
      ],
      "metadata": {
        "id": "3GWhnqHsO1dk"
      },
      "execution_count": 26,
      "outputs": []
    },
    {
      "cell_type": "markdown",
      "source": [
        "### Gradient Descent"
      ],
      "metadata": {
        "id": "zJf5tKtcO1dk"
      }
    },
    {
      "cell_type": "code",
      "source": [
        "def gradient_descent(w, eta, grads):\n",
        "  w -= eta*grads\n",
        "  return w"
      ],
      "metadata": {
        "id": "SbYIzKooO1dk"
      },
      "execution_count": 27,
      "outputs": []
    },
    {
      "cell_type": "markdown",
      "source": [
        "### Accuracy"
      ],
      "metadata": {
        "id": "UsWjrb_xO1dl"
      }
    },
    {
      "cell_type": "code",
      "source": [
        "def accuracy(y, y_hat):\n",
        "  acc = np.sum(y == np.round(y_hat))/len(y)\n",
        "  return acc"
      ],
      "metadata": {
        "id": "8RV0iEWkO1dl"
      },
      "execution_count": 28,
      "outputs": []
    },
    {
      "cell_type": "markdown",
      "source": [
        "### Train"
      ],
      "metadata": {
        "id": "2SEP20sBO1dm"
      }
    },
    {
      "cell_type": "code",
      "source": [
        "x_train = np.hstack((np.ones((len(x_train), 1)), x_train))\n",
        "x_train.shape"
      ],
      "metadata": {
        "colab": {
          "base_uri": "https://localhost:8080/"
        },
        "outputId": "a7026701-0376-40f5-db91-9584fab0a6ce",
        "id": "iQHBCG1rO1dm"
      },
      "execution_count": 29,
      "outputs": [
        {
          "output_type": "execute_result",
          "data": {
            "text/plain": [
              "(1096, 5)"
            ]
          },
          "metadata": {},
          "execution_count": 29
        }
      ]
    },
    {
      "cell_type": "code",
      "source": [
        "m = 4 # number of features\n",
        "w = np.random.randn(m+1, 1)\n",
        "print(w.shape)\n",
        "\n",
        "eta = 0.01 # learning rate\n",
        "n_epochs = 4500 # number of epochs"
      ],
      "metadata": {
        "colab": {
          "base_uri": "https://localhost:8080/"
        },
        "outputId": "c9c6b017-da11-497a-c553-74886ec327c1",
        "id": "upWw3KcQO1dn"
      },
      "execution_count": 30,
      "outputs": [
        {
          "output_type": "stream",
          "name": "stdout",
          "text": [
            "(5, 1)\n"
          ]
        }
      ]
    },
    {
      "cell_type": "code",
      "source": [
        "error_hist = []\n",
        "\n",
        "for epoch in range(n_epochs):\n",
        "  # predictions\n",
        "  y_hat = logistic_regression(x_train, w)\n",
        "\n",
        "  # loss\n",
        "  e = bce(y_train, y_hat)\n",
        "  error_hist.append(e)\n",
        "\n",
        "  # gradients\n",
        "  grads = gradient(x_train, y_train, y_hat)\n",
        "\n",
        "  # gradient descent\n",
        "  w = gradient_descent(w, eta, grads)\n",
        "\n",
        "  if (epoch+1) % 100 ==0:\n",
        "    print(f'Epoch={epoch}, \\t E={e:.4},\\t w={w.T[0]}')"
      ],
      "metadata": {
        "colab": {
          "base_uri": "https://localhost:8080/"
        },
        "outputId": "8255a9a6-1542-4760-8f9b-2ddb6d5616ff",
        "id": "4IGs76epO1dn"
      },
      "execution_count": 31,
      "outputs": [
        {
          "output_type": "stream",
          "name": "stdout",
          "text": [
            "Epoch=99, \t E=1.509,\t w=[ 0.4940287   1.18201844 -0.61968269 -0.52009139  1.2066339 ]\n",
            "Epoch=199, \t E=1.092,\t w=[ 0.34361233  0.63521869 -0.74430033 -0.45553018  0.93369923]\n",
            "Epoch=299, \t E=0.7882,\t w=[ 0.21576257  0.17081704 -0.82064911 -0.44047048  0.68171816]\n",
            "Epoch=399, \t E=0.5881,\t w=[ 0.11537005 -0.20585926 -0.86960595 -0.45797321  0.47249242]\n",
            "Epoch=499, \t E=0.4662,\t w=[ 0.03916572 -0.50153029 -0.91022227 -0.49134796  0.31535834]\n",
            "Epoch=599, \t E=0.3931,\t w=[-0.0197506  -0.73271691 -0.95146996 -0.53117009  0.20480777]\n",
            "Epoch=699, \t E=0.3469,\t w=[-0.06680349 -0.91752086 -0.99494748 -0.57359409  0.12863529]\n",
            "Epoch=799, \t E=0.3154,\t w=[-0.10545887 -1.06980858 -1.03986488 -0.61717974  0.07595635]\n",
            "Epoch=899, \t E=0.2922,\t w=[-0.13796817 -1.19882783 -1.0852491  -0.66129872  0.03920576]\n",
            "Epoch=999, \t E=0.2742,\t w=[-0.16585402 -1.31061907 -1.13040444 -0.70559917  0.01344101]\n",
            "Epoch=1099, \t E=0.2596,\t w=[-0.19017834 -1.40922198 -1.17489832 -0.74984264 -0.00457709]\n",
            "Epoch=1199, \t E=0.2473,\t w=[-0.21170113 -1.49743334 -1.2184806  -0.793851   -0.01701885]\n",
            "Epoch=1299, \t E=0.2368,\t w=[-0.23097914 -1.57725686 -1.26101791 -0.83748622 -0.02537603]\n",
            "Epoch=1399, \t E=0.2275,\t w=[-0.24842907 -1.65017255 -1.30244984 -0.88064044 -0.03069877]\n",
            "Epoch=1499, \t E=0.2193,\t w=[-0.26436887 -1.71730285 -1.3427609  -0.92322989 -0.03374218]\n",
            "Epoch=1599, \t E=0.2119,\t w=[-0.27904546 -1.7795185  -1.38196299 -0.96519045 -0.03505917]\n",
            "Epoch=1699, \t E=0.2052,\t w=[-0.29265359 -1.83750822 -1.42008425 -1.00647411 -0.03506101]\n",
            "Epoch=1799, \t E=0.1991,\t w=[-0.30534906 -1.89182598 -1.45716209 -1.04704609 -0.03405768]\n",
            "Epoch=1899, \t E=0.1934,\t w=[-0.31725804 -1.94292387 -1.49323872 -1.08688247 -0.03228552]\n",
            "Epoch=1999, \t E=0.1882,\t w=[-0.32848392 -1.99117557 -1.52835831 -1.12596818 -0.02992646]\n",
            "Epoch=2099, \t E=0.1834,\t w=[-0.33911226 -2.03689344 -1.56256527 -1.16429538 -0.0271217 ]\n",
            "Epoch=2199, \t E=0.1788,\t w=[-0.34921449 -2.08034118 -1.59590311 -1.20186204 -0.02398161]\n",
            "Epoch=2299, \t E=0.1746,\t w=[-0.35885079 -2.12174339 -1.62841377 -1.23867085 -0.02059294]\n",
            "Epoch=2399, \t E=0.1706,\t w=[-0.36807218 -2.16129291 -1.66013733 -1.27472825 -0.0170242 ]\n",
            "Epoch=2499, \t E=0.1669,\t w=[-0.37692229 -2.19915651 -1.69111173 -1.31004365 -0.0133297 ]\n",
            "Epoch=2599, \t E=0.1634,\t w=[-0.38543857 -2.23547932 -1.72137278 -1.34462879 -0.00955258]\n",
            "Epoch=2699, \t E=0.1601,\t w=[-0.39365343 -2.27038847 -1.75095414 -1.37849721 -0.0057272 ]\n",
            "Epoch=2799, \t E=0.1569,\t w=[-4.01595029e-01 -2.30399584e+00 -1.77988740e+00 -1.41166381e+00\n",
            " -1.88091526e-03]\n",
            "Epoch=2899, \t E=0.1539,\t w=[-4.09287953e-01 -2.33640048e+00 -1.80820218e+00 -1.44414447e+00\n",
            "  1.96450019e-03]\n",
            "Epoch=2999, \t E=0.1511,\t w=[-0.41675378 -2.36769042 -1.83592621 -1.4759558   0.00579175]\n",
            "Epoch=3099, \t E=0.1484,\t w=[-0.4240115  -2.39794426 -1.86308548 -1.50711484  0.00958716]\n",
            "Epoch=3199, \t E=0.1458,\t w=[-0.43107794 -2.42723247 -1.88970431 -1.53763889  0.01333993]\n",
            "Epoch=3299, \t E=0.1434,\t w=[-0.43796802 -2.45561845 -1.91580553 -1.56754536  0.01704167]\n",
            "Epoch=3399, \t E=0.1411,\t w=[-0.44469504 -2.48315946 -1.94141052 -1.59685164  0.02068588]\n",
            "Epoch=3499, \t E=0.1388,\t w=[-0.45127087 -2.50990737 -1.96653937 -1.62557495  0.02426762]\n",
            "Epoch=3599, \t E=0.1367,\t w=[-0.45770617 -2.53590933 -1.99121093 -1.65373231  0.02778322]\n",
            "Epoch=3699, \t E=0.1347,\t w=[-0.46401053 -2.56120829 -2.01544295 -1.68134047  0.03123006]\n",
            "Epoch=3799, \t E=0.1327,\t w=[-0.47019259 -2.58584354 -2.03925212 -1.70841582  0.03460635]\n",
            "Epoch=3899, \t E=0.1308,\t w=[-0.47626015 -2.60985104 -2.06265417 -1.73497439  0.037911  ]\n",
            "Epoch=3999, \t E=0.129,\t w=[-0.4822203  -2.63326388 -2.08566393 -1.7610318   0.04114348]\n",
            "Epoch=4099, \t E=0.1273,\t w=[-0.48807949 -2.65611248 -2.10829541 -1.78660326  0.0443037 ]\n",
            "Epoch=4199, \t E=0.1256,\t w=[-0.49384356 -2.67842494 -2.13056187 -1.81170354  0.04739195]\n",
            "Epoch=4299, \t E=0.124,\t w=[-0.49951788 -2.70022724 -2.15247582 -1.83634695  0.05040881]\n",
            "Epoch=4399, \t E=0.1225,\t w=[-0.50510734 -2.72154346 -2.17404914 -1.86054738  0.05335511]\n",
            "Epoch=4499, \t E=0.121,\t w=[-0.51061642 -2.74239597 -2.19529308 -1.88431825  0.05623185]\n"
          ]
        }
      ]
    },
    {
      "cell_type": "markdown",
      "source": [
        "### Loss fuction"
      ],
      "metadata": {
        "id": "nXwwRD1oO1do"
      }
    },
    {
      "cell_type": "code",
      "source": [
        "plt.figure(figsize=(8, 6))\n",
        "plt.plot(error_hist)\n",
        "plt.xlabel(\"Number of Epochs\")\n",
        "plt.ylabel(\"Error\")\n",
        "plt.title('Loss Function')\n",
        "plt.grid(alpha=0.5)"
      ],
      "metadata": {
        "colab": {
          "base_uri": "https://localhost:8080/",
          "height": 564
        },
        "outputId": "e47d47c3-608c-41cd-d654-25281397b08a",
        "id": "q23-elmtO1do"
      },
      "execution_count": 32,
      "outputs": [
        {
          "output_type": "display_data",
          "data": {
            "text/plain": [
              "<Figure size 800x600 with 1 Axes>"
            ],
            "image/png": "[encoded data removed]"
          },
          "metadata": {}
        }
      ]
    },
    {
      "cell_type": "markdown",
      "source": [
        "### Test"
      ],
      "metadata": {
        "id": "UBx_0J_2O1dp"
      }
    },
    {
      "cell_type": "code",
      "source": [
        "x_test = np.hstack((np.ones((len(x_test), 1)), x_test))\n",
        "x_test.shape"
      ],
      "metadata": {
        "colab": {
          "base_uri": "https://localhost:8080/"
        },
        "outputId": "0044a22d-72e2-4b82-b794-b4f0bbac8601",
        "id": "d78sStYwO1dp"
      },
      "execution_count": 33,
      "outputs": [
        {
          "output_type": "execute_result",
          "data": {
            "text/plain": [
              "(275, 5)"
            ]
          },
          "metadata": {},
          "execution_count": 33
        }
      ]
    },
    {
      "cell_type": "code",
      "source": [
        "y_hat = logistic_regression(x_test, w)\n",
        "accuracy(y_test, y_hat)"
      ],
      "metadata": {
        "colab": {
          "base_uri": "https://localhost:8080/"
        },
        "outputId": "796b3a2e-0455-4821-d6c7-c1d443d35361",
        "id": "2sVTA2hKO1dq"
      },
      "execution_count": 34,
      "outputs": [
        {
          "output_type": "execute_result",
          "data": {
            "text/plain": [
              "0.9745454545454545"
            ]
          },
          "metadata": {},
          "execution_count": 34
        }
      ]
    },
    {
      "cell_type": "code",
      "source": [
        "# Number of desired samples\n",
        "num_samples = 5\n",
        "# Select 5 random indices from the test data\n",
        "random_indices = np.random.choice(len(x_test), num_samples, replace=False)\n",
        "\n",
        "# Data samples corresponding to the selected indices\n",
        "random_samples = x_test[random_indices]\n",
        "y_random_samples = y_test[random_indices]\n",
        "\n",
        "y_hat_random_samples = logistic_regression(random_samples, w)\n",
        "\n",
        "# Display the model predictions and real targets for the selected samples\n",
        "print(\"Model Predictions for the Selected Samples:\")\n",
        "print(y_hat_random_samples)\n",
        "\n",
        "print(\"Real Targets for the Selected Samples:\")\n",
        "print(y_random_samples)"
      ],
      "metadata": {
        "colab": {
          "base_uri": "https://localhost:8080/"
        },
        "id": "cM28bPRRw4he",
        "outputId": "4db8035b-b9e3-40e4-e7a0-56188e719167"
      },
      "execution_count": 35,
      "outputs": [
        {
          "output_type": "stream",
          "name": "stdout",
          "text": [
            "Model Predictions for the Selected Samples:\n",
            "[[0.01987476]\n",
            " [0.94394688]\n",
            " [0.88113615]\n",
            " [0.92069731]\n",
            " [0.95594452]]\n",
            "Real Targets for the Selected Samples:\n",
            "[[0]\n",
            " [1]\n",
            " [1]\n",
            " [1]\n",
            " [1]]\n"
          ]
        }
      ]
    },
    {
      "cell_type": "markdown",
      "source": [
        "# Part 6"
      ],
      "metadata": {
        "id": "Y151VqI750lo"
      }
    },
    {
      "cell_type": "code",
      "source": [
        "import matplotlib.pyplot as plt\n",
        "import numpy as np\n",
        "import pandas as pd\n",
        "\n",
        "new_y = pd.DataFrame(y)\n",
        "new_y.value_counts()"
      ],
      "metadata": {
        "colab": {
          "base_uri": "https://localhost:8080/"
        },
        "id": "EGp-rRKl53gQ",
        "outputId": "ca6bb61b-0b80-4462-b9f3-8da155469b91"
      },
      "execution_count": 36,
      "outputs": [
        {
          "output_type": "execute_result",
          "data": {
            "text/plain": [
              "0    761\n",
              "1    610\n",
              "dtype: int64"
            ]
          },
          "metadata": {},
          "execution_count": 36
        }
      ]
    },
    {
      "cell_type": "code",
      "source": [
        "plt.figure(figsize=(8, 6))\n",
        "new_y.value_counts().plot.pie(autopct = \"%.2f\")\n",
        "plt.title(\"the distribution of samples in each class\")\n",
        "plt.legend(labels=new_y.value_counts().index, title=\"Class Labels\", loc=\"upper right\")"
      ],
      "metadata": {
        "colab": {
          "base_uri": "https://localhost:8080/",
          "height": 539
        },
        "id": "bwciLZ7TJX53",
        "outputId": "55b00872-c453-4130-bbf7-4c6d8b13adcf"
      },
      "execution_count": 37,
      "outputs": [
        {
          "output_type": "execute_result",
          "data": {
            "text/plain": [
              "<matplotlib.legend.Legend at 0x7a1c5533ed40>"
            ]
          },
          "metadata": {},
          "execution_count": 37
        },
        {
          "output_type": "display_data",
          "data": {
            "text/plain": [
              "<Figure size 800x600 with 1 Axes>"
            ],
            "image/png": "[encoded data removed]"
          },
          "metadata": {}
        }
      ]
    },
    {
      "cell_type": "code",
      "source": [
        "! pip install -U imbalanced-learn"
      ],
      "metadata": {
        "colab": {
          "base_uri": "https://localhost:8080/"
        },
        "id": "8ybm_UZbAAe6",
        "outputId": "d0ed6f69-fda0-4b8f-9440-a7dace8de375"
      },
      "execution_count": 38,
      "outputs": [
        {
          "output_type": "stream",
          "name": "stdout",
          "text": [
            "Requirement already satisfied: imbalanced-learn in /usr/local/lib/python3.10/dist-packages (0.10.1)\n",
            "Collecting imbalanced-learn\n",
            "  Downloading imbalanced_learn-0.11.0-py3-none-any.whl (235 kB)\n",
            "\u001b[2K     \u001b[90m━━━━━━━━━━━━━━━━━━━━━━━━━━━━━━━━━━━━━━━━\u001b[0m \u001b[32m235.6/235.6 kB\u001b[0m \u001b[31m5.1 MB/s\u001b[0m eta \u001b[36m0:00:00\u001b[0m\n",
            "\u001b[?25hRequirement already satisfied: numpy>=1.17.3 in /usr/local/lib/python3.10/dist-packages (from imbalanced-learn) (1.23.5)\n",
            "Requirement already satisfied: scipy>=1.5.0 in /usr/local/lib/python3.10/dist-packages (from imbalanced-learn) (1.11.3)\n",
            "Requirement already satisfied: scikit-learn>=1.0.2 in /usr/local/lib/python3.10/dist-packages (from imbalanced-learn) (1.2.2)\n",
            "Requirement already satisfied: joblib>=1.1.1 in /usr/local/lib/python3.10/dist-packages (from imbalanced-learn) (1.3.2)\n",
            "Requirement already satisfied: threadpoolctl>=2.0.0 in /usr/local/lib/python3.10/dist-packages (from imbalanced-learn) (3.2.0)\n",
            "Installing collected packages: imbalanced-learn\n",
            "  Attempting uninstall: imbalanced-learn\n",
            "    Found existing installation: imbalanced-learn 0.10.1\n",
            "    Uninstalling imbalanced-learn-0.10.1:\n",
            "      Successfully uninstalled imbalanced-learn-0.10.1\n",
            "Successfully installed imbalanced-learn-0.11.0\n"
          ]
        }
      ]
    },
    {
      "cell_type": "code",
      "source": [
        "from imblearn.under_sampling import RandomUnderSampler\n",
        "\n",
        "y1 = pd.DataFrame(y)\n",
        "rus = RandomUnderSampler(sampling_strategy=1, random_state=93)\n",
        "X_res_undersampling , y_res_undersampling = rus.fit_resample(X , y1)\n",
        "X_res_undersampling.shape , y_res_undersampling.shape"
      ],
      "metadata": {
        "colab": {
          "base_uri": "https://localhost:8080/"
        },
        "id": "SOKuuPkiAEUw",
        "outputId": "75156e95-ef54-4360-d187-438b04392a87"
      },
      "execution_count": 46,
      "outputs": [
        {
          "output_type": "execute_result",
          "data": {
            "text/plain": [
              "((1220, 4), (1220, 1))"
            ]
          },
          "metadata": {},
          "execution_count": 46
        }
      ]
    },
    {
      "cell_type": "code",
      "source": [
        "y_res_undersampling.value_counts()"
      ],
      "metadata": {
        "colab": {
          "base_uri": "https://localhost:8080/"
        },
        "id": "QfmER8ubb-0K",
        "outputId": "1ff63398-04c7-467c-913d-da20ae48303e"
      },
      "execution_count": 47,
      "outputs": [
        {
          "output_type": "execute_result",
          "data": {
            "text/plain": [
              "0    610\n",
              "1    610\n",
              "dtype: int64"
            ]
          },
          "metadata": {},
          "execution_count": 47
        }
      ]
    },
    {
      "cell_type": "code",
      "source": [
        "plt.figure(figsize=(8, 6))\n",
        "y_res_undersampling.value_counts().plot.pie(autopct = '%.2f')\n",
        "plt.title(\"the distribution of samples in each class afetr undersampling\")\n",
        "plt.legend(labels=new_y.value_counts().index, title=\"Class Labels\", loc=\"upper right\")"
      ],
      "metadata": {
        "colab": {
          "base_uri": "https://localhost:8080/",
          "height": 539
        },
        "outputId": "2d158da9-24cc-4dca-f266-690e8deb229b",
        "id": "hkfHub7FcAvF"
      },
      "execution_count": 48,
      "outputs": [
        {
          "output_type": "execute_result",
          "data": {
            "text/plain": [
              "<matplotlib.legend.Legend at 0x7a1c49c9c700>"
            ]
          },
          "metadata": {},
          "execution_count": 48
        },
        {
          "output_type": "display_data",
          "data": {
            "text/plain": [
              "<Figure size 800x600 with 1 Axes>"
            ],
            "image/png": "[encoded data removed]"
          },
          "metadata": {}
        }
      ]
    },
    {
      "cell_type": "markdown",
      "source": [
        "# Part 7"
      ],
      "metadata": {
        "id": "_NXkE3oYAPXO"
      }
    },
    {
      "cell_type": "code",
      "source": [
        "from sklearn.linear_model import LogisticRegression\n",
        "from sklearn.model_selection import train_test_split\n",
        "\n",
        "X_train, X_test, y_train, y_test = train_test_split(X_res_undersampling, y_res_undersampling, test_size=0.2, random_state=93, stratify=y_res_undersampling)"
      ],
      "metadata": {
        "id": "iF_tHgGFAJwh"
      },
      "execution_count": 50,
      "outputs": []
    },
    {
      "cell_type": "markdown",
      "source": [
        "## Logistic Regression"
      ],
      "metadata": {
        "id": "TURSFbqrfpre"
      }
    },
    {
      "cell_type": "code",
      "source": [
        "LogReg_classifier = LogisticRegression(C=1.0, penalty='l2', solver='sag', max_iter=20000, random_state=93)\n",
        "LogReg_classifier.fit(X_train, y_train)\n",
        "y_pred = LogReg_classifier.predict(X_test)\n",
        "LogReg_train_accuracy = LogReg_classifier.score(X_train, y_train)\n",
        "LogReg_test_accuracy = LogReg_classifier.score(X_test, y_test)"
      ],
      "metadata": {
        "colab": {
          "base_uri": "https://localhost:8080/"
        },
        "id": "oEe3Bun_fpU6",
        "outputId": "d612e4ce-564d-4099-ba7e-417fbec1998b"
      },
      "execution_count": 51,
      "outputs": [
        {
          "output_type": "stream",
          "name": "stderr",
          "text": [
            "/usr/local/lib/python3.10/dist-packages/sklearn/utils/validation.py:1143: DataConversionWarning: A column-vector y was passed when a 1d array was expected. Please change the shape of y to (n_samples, ), for example using ravel().\n",
            "  y = column_or_1d(y, warn=True)\n"
          ]
        }
      ]
    },
    {
      "cell_type": "markdown",
      "source": [
        "## Accuracy"
      ],
      "metadata": {
        "id": "s6r1MEC4gLeH"
      }
    },
    {
      "cell_type": "code",
      "source": [
        "print(f\"Logistic Regression Train Accuracy: {LogReg_train_accuracy:.2f}\")\n",
        "print(f\"Logistic Regression Test Accuracy: {LogReg_test_accuracy:.2f}\")"
      ],
      "metadata": {
        "colab": {
          "base_uri": "https://localhost:8080/"
        },
        "id": "iIEDBwfHgN5d",
        "outputId": "25c74cf2-7fef-4730-c500-d2fa946add17"
      },
      "execution_count": 52,
      "outputs": [
        {
          "output_type": "stream",
          "name": "stdout",
          "text": [
            "Logistic Regression Train Accuracy: 0.99\n",
            "Logistic Regression Test Accuracy: 0.99\n"
          ]
        }
      ]
    }
  ]
}