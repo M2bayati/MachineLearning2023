{
  "nbformat": 4,
  "nbformat_minor": 0,
  "metadata": {
    "colab": {
      "provenance": []
    },
    "kernelspec": {
      "name": "python3",
      "display_name": "Python 3"
    },
    "language_info": {
      "name": "python"
    }
  },
  "cells": [
    {
      "cell_type": "markdown",
      "source": [
        "**Question 2**"
      ],
      "metadata": {
        "id": "4uVIqHJpiAfr"
      }
    },
    {
      "cell_type": "markdown",
      "source": [
        "# **Part 2**"
      ],
      "metadata": {
        "id": "MDVm2pTThwDv"
      }
    },
    {
      "cell_type": "markdown",
      "metadata": {
        "id": "TH5QzLGn22or"
      },
      "source": [
        "## **import library**\n",
        "\n"
      ]
    },
    {
      "cell_type": "code",
      "execution_count": 1,
      "metadata": {
        "id": "reHEVVJffghw"
      },
      "outputs": [],
      "source": [
        "#import library\n",
        "import numpy as np\n",
        "import itertools"
      ]
    },
    {
      "cell_type": "markdown",
      "metadata": {
        "id": "0e3yU2JKEEuN"
      },
      "source": [
        "## **2-bit binary multiplier Model**"
      ]
    },
    {
      "cell_type": "code",
      "execution_count": 2,
      "metadata": {
        "id": "S7oinVRWN93T"
      },
      "outputs": [],
      "source": [
        "#define muculloch pitts\n",
        "class McCulloch_Pitts_neuron():\n",
        "\n",
        "  def __init__(self , weights , threshold):\n",
        "    self.weights = weights    #define weights\n",
        "    self.threshold = threshold    #define threshold\n",
        "\n",
        "  def model(self , x):\n",
        "    #define model with threshold\n",
        "    if self.weights @ x >= self.threshold:\n",
        "        return 1\n",
        "    else:\n",
        "        return 0"
      ]
    },
    {
      "cell_type": "code",
      "source": [
        "#define model for dataset\n",
        "def binary_multiplier(input1, input2):\n",
        "  neur1 = McCulloch_Pitts_neuron([1, 1, 1, 1], 4)\n",
        "  neur2 = McCulloch_Pitts_neuron([2, -1, 2, -1], 3)\n",
        "  neur3 = McCulloch_Pitts_neuron([3, 3], 3)\n",
        "  neur4 = McCulloch_Pitts_neuron([1, 1], 2)\n",
        "\n",
        "  M3 = neur1.model(np.array([input2[0], input2[1], input1[0], input1[1]]))\n",
        "  M2 = neur2.model(np.array([input2[0], input2[1], input1[0], input1[1]]))\n",
        "  M1_1 = neur2.model(np.array([input2[1], input2[0], input1[0], input1[1]]))\n",
        "  M1_0 = neur2.model(np.array([input2[0], input2[1], input1[1], input1[0]]))\n",
        "  M1 = neur3.model(np.array([M1_1, M1_0]))\n",
        "  M0 = neur4.model(np.array([input2[1], input1[1]]))\n",
        "\n",
        "  # 3 bit output\n",
        "  return list([M3, M2, M1, M0])"
      ],
      "metadata": {
        "id": "4Wk3i2ntr2gx"
      },
      "execution_count": 3,
      "outputs": []
    },
    {
      "cell_type": "markdown",
      "source": [
        "## **Output**"
      ],
      "metadata": {
        "id": "ONeGDPKv0Fkl"
      }
    },
    {
      "cell_type": "code",
      "source": [
        "import itertools\n",
        "# inputs\n",
        "input = [1, 0]\n",
        "X1 = list(itertools.product(input, input))\n",
        "X =list(itertools.product(X1, X1))\n",
        "\n",
        "for i in X:\n",
        "    res = binary_multiplier(i[1], i[0])\n",
        "    print(\"2-bit binary multiple with inputs as\", str(i[0][0]) + str(\" \") + str(i[0][1]), \"and\", str(i[1][0]) + str(\" \") + str(i[1][1]), \"goes to output \", str(res[0]) + str(\" \") + str(res[1]) + str(\" \") + str(res[2]) + str(\" \") + str(res[3]), \".\")"
      ],
      "metadata": {
        "colab": {
          "base_uri": "https://localhost:8080/"
        },
        "id": "9Mbv3Ddcg29o",
        "outputId": "394f0e1e-d628-4d0c-a1a1-967311f79b89"
      },
      "execution_count": 4,
      "outputs": [
        {
          "output_type": "stream",
          "name": "stdout",
          "text": [
            "2-bit binary multiple with inputs as 1 1 and 1 1 goes to output  1 0 0 1 .\n",
            "2-bit binary multiple with inputs as 1 1 and 1 0 goes to output  0 1 1 0 .\n",
            "2-bit binary multiple with inputs as 1 1 and 0 1 goes to output  0 0 1 1 .\n",
            "2-bit binary multiple with inputs as 1 1 and 0 0 goes to output  0 0 0 0 .\n",
            "2-bit binary multiple with inputs as 1 0 and 1 1 goes to output  0 1 1 0 .\n",
            "2-bit binary multiple with inputs as 1 0 and 1 0 goes to output  0 1 0 0 .\n",
            "2-bit binary multiple with inputs as 1 0 and 0 1 goes to output  0 0 1 0 .\n",
            "2-bit binary multiple with inputs as 1 0 and 0 0 goes to output  0 0 0 0 .\n",
            "2-bit binary multiple with inputs as 0 1 and 1 1 goes to output  0 0 1 1 .\n",
            "2-bit binary multiple with inputs as 0 1 and 1 0 goes to output  0 0 1 0 .\n",
            "2-bit binary multiple with inputs as 0 1 and 0 1 goes to output  0 0 0 1 .\n",
            "2-bit binary multiple with inputs as 0 1 and 0 0 goes to output  0 0 0 0 .\n",
            "2-bit binary multiple with inputs as 0 0 and 1 1 goes to output  0 0 0 0 .\n",
            "2-bit binary multiple with inputs as 0 0 and 1 0 goes to output  0 0 0 0 .\n",
            "2-bit binary multiple with inputs as 0 0 and 0 1 goes to output  0 0 0 0 .\n",
            "2-bit binary multiple with inputs as 0 0 and 0 0 goes to output  0 0 0 0 .\n"
          ]
        }
      ]
    }
  ]
}